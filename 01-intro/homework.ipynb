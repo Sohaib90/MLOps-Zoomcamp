{
 "cells": [
  {
   "cell_type": "code",
   "execution_count": 1,
   "id": "c8b71a5b-c21b-4e94-80e0-525e6731825a",
   "metadata": {},
   "outputs": [
    {
     "data": {
      "text/plain": [
       "'2.2.2'"
      ]
     },
     "execution_count": 1,
     "metadata": {},
     "output_type": "execute_result"
    }
   ],
   "source": [
    "import pandas as pd\n",
    "pd.__version__"
   ]
  },
  {
   "cell_type": "code",
   "execution_count": 33,
   "id": "a7229dd6-45c1-4031-aa85-00059e72e5c2",
   "metadata": {},
   "outputs": [],
   "source": [
    "taxi_data_1 = pd.read_parquet('data/yellow_tripdata_2024-01.parquet')\n",
    "taxi_data_2 = pd.read_parquet('data/yellow_tripdata_2024-02.parquet')"
   ]
  },
  {
   "cell_type": "markdown",
   "id": "2d135579-f2fb-42b3-b175-71bfc56b7e5f",
   "metadata": {},
   "source": [
    "### Homework Question 1:"
   ]
  },
  {
   "cell_type": "code",
   "execution_count": 34,
   "id": "2166c82f-b3bc-4a55-97f7-7bd866c65ef0",
   "metadata": {},
   "outputs": [
    {
     "data": {
      "text/plain": [
       "'There are [19] columns in the yellow trip data for the month of January.'"
      ]
     },
     "execution_count": 34,
     "metadata": {},
     "output_type": "execute_result"
    }
   ],
   "source": [
    "\"There are [{}] columns in the yellow trip data for the month of January.\".format(len(taxi_data_1.columns))"
   ]
  },
  {
   "cell_type": "code",
   "execution_count": 35,
   "id": "fc8858e6-e7c7-4fab-af38-8c58f8bd7758",
   "metadata": {},
   "outputs": [
    {
     "name": "stdout",
     "output_type": "stream",
     "text": [
      "Total number of rows 2964624\n",
      "\n",
      "Number of non zero values in each column\n",
      "VendorID                 2964624\n",
      "tpep_pickup_datetime     2964624\n",
      "tpep_dropoff_datetime    2964624\n",
      "passenger_count          2824462\n",
      "trip_distance            2964624\n",
      "RatecodeID               2824462\n",
      "store_and_fwd_flag       2824462\n",
      "PULocationID             2964624\n",
      "DOLocationID             2964624\n",
      "payment_type             2964624\n",
      "fare_amount              2964624\n",
      "extra                    2964624\n",
      "mta_tax                  2964624\n",
      "tip_amount               2964624\n",
      "tolls_amount             2964624\n",
      "improvement_surcharge    2964624\n",
      "total_amount             2964624\n",
      "congestion_surcharge     2824462\n",
      "Airport_fee              2824462\n",
      "dtype: int64\n"
     ]
    }
   ],
   "source": [
    "'''\n",
    "Counting the non-NA cells for each column or row\n",
    "'''\n",
    "print(\"Total number of rows {}\".format(len(taxi_data_1)))\n",
    "print()\n",
    "print('Number of non zero values in each column')\n",
    "print(taxi_data_1.count())"
   ]
  },
  {
   "cell_type": "markdown",
   "id": "43576830-472e-49d5-b137-0ffb65583463",
   "metadata": {},
   "source": [
    "### Homework Question 2:"
   ]
  },
  {
   "cell_type": "code",
   "execution_count": 37,
   "id": "0301d8d3-2c56-41d6-ac1b-cdc2d0adaa13",
   "metadata": {},
   "outputs": [
    {
     "name": "stdout",
     "output_type": "stream",
     "text": [
      "  tpep_pickup_datetime tpep_dropoff_datetime  duration_in_minutes\n",
      "0  2024-01-01 00:57:55   2024-01-01 01:17:43            19.800000\n",
      "1  2024-01-01 00:03:00   2024-01-01 00:09:36             6.600000\n",
      "2  2024-01-01 00:17:06   2024-01-01 00:35:01            17.916667\n",
      "3  2024-01-01 00:36:38   2024-01-01 00:44:56             8.300000\n",
      "4  2024-01-01 00:46:51   2024-01-01 00:52:57             6.100000\n"
     ]
    }
   ],
   "source": [
    "# Convert the columns to datetime if they are not already\n",
    "taxi_data_1['tpep_pickup_datetime'] = pd.to_datetime(taxi_data_1['tpep_pickup_datetime'])\n",
    "taxi_data_1['tpep_dropoff_datetime'] = pd.to_datetime(taxi_data_1['tpep_dropoff_datetime'])\n",
    "\n",
    "# Calculate the duration in minutes\n",
    "taxi_data_1['duration_in_minutes'] = (taxi_data_1['tpep_dropoff_datetime'] - taxi_data_1['tpep_pickup_datetime']).dt.total_seconds() / 60\n",
    "\n",
    "# Display the DataFrame with the new duration column\n",
    "print(taxi_data_1[['tpep_pickup_datetime', 'tpep_dropoff_datetime', 'duration_in_minutes']].head())"
   ]
  },
  {
   "cell_type": "code",
   "execution_count": 38,
   "id": "c4eb3a7b-510f-44c2-b07f-4459faa75631",
   "metadata": {},
   "outputs": [
    {
     "data": {
      "text/plain": [
       "34.851053592212814"
      ]
     },
     "execution_count": 38,
     "metadata": {},
     "output_type": "execute_result"
    }
   ],
   "source": [
    "taxi_data_1.duration_in_minutes.describe()[\"std\"]"
   ]
  },
  {
   "cell_type": "markdown",
   "id": "525ce575-888e-4f43-a8b9-cf3c5a079e5a",
   "metadata": {},
   "source": [
    "### Homework Question 3:"
   ]
  },
  {
   "cell_type": "code",
   "execution_count": 45,
   "id": "6731d4d2-7622-4feb-8f1b-563959ea4bb1",
   "metadata": {},
   "outputs": [
    {
     "data": {
      "text/plain": [
       "count    2.964624e+06\n",
       "mean     1.561295e+01\n",
       "std      3.485105e+01\n",
       "min     -1.356667e+01\n",
       "25%      7.150000e+00\n",
       "50%      1.163333e+01\n",
       "75%      1.868333e+01\n",
       "max      9.455400e+03\n",
       "Name: duration_in_minutes, dtype: float64"
      ]
     },
     "execution_count": 45,
     "metadata": {},
     "output_type": "execute_result"
    }
   ],
   "source": [
    "taxi_data_1.duration_in_minutes.describe()"
   ]
  },
  {
   "cell_type": "code",
   "execution_count": 51,
   "id": "7b26ade0-f40b-4dab-a388-c8a04d95f799",
   "metadata": {},
   "outputs": [],
   "source": [
    "# Remove outliers (keep records where the duration was between 1 and 60 minutes inclusive)\n",
    "taxi_filtered = taxi_data_1[(taxi_data_1['duration_in_minutes'] >= 1) & (taxi_data_1['duration_in_minutes'] <= 60)]"
   ]
  },
  {
   "cell_type": "code",
   "execution_count": 58,
   "id": "21fe3cd5-064a-4cf1-9404-6b46f6137b1a",
   "metadata": {},
   "outputs": [
    {
     "name": "stdout",
     "output_type": "stream",
     "text": [
      "The number of records left after filtering 98%\n"
     ]
    }
   ],
   "source": [
    "print(\"The number of records left after filtering {}%\".format(round(len(taxi_filtered) / len(taxi_data_1) * 100), 4))"
   ]
  },
  {
   "cell_type": "markdown",
   "id": "f0179d6a-bfc6-479a-971f-91b67c64683a",
   "metadata": {},
   "source": [
    "### Homework Question 4:"
   ]
  },
  {
   "cell_type": "code",
   "execution_count": null,
   "id": "492f2b44-00e7-4063-b197-6f315c799008",
   "metadata": {},
   "outputs": [],
   "source": []
  }
 ],
 "metadata": {
  "kernelspec": {
   "display_name": "Python 3 (ipykernel)",
   "language": "python",
   "name": "python3"
  },
  "language_info": {
   "codemirror_mode": {
    "name": "ipython",
    "version": 3
   },
   "file_extension": ".py",
   "mimetype": "text/x-python",
   "name": "python",
   "nbconvert_exporter": "python",
   "pygments_lexer": "ipython3",
   "version": "3.12.2"
  }
 },
 "nbformat": 4,
 "nbformat_minor": 5
}
