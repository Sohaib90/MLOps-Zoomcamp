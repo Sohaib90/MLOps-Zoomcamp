{
 "cells": [
  {
   "cell_type": "code",
   "execution_count": 1,
   "id": "c8b71a5b-c21b-4e94-80e0-525e6731825a",
   "metadata": {},
   "outputs": [],
   "source": [
    "import pandas as pd\n",
    "import mlflow\n",
    "import seaborn\n",
    "import matplotlib.pyplot as plt\n",
    "\n",
    "from sklearn.feature_extraction import DictVectorizer\n",
    "from sklearn.linear_model import LinearRegression\n",
    "from sklearn.metrics import mean_squared_error\n",
    "import numpy as np"
   ]
  },
  {
   "cell_type": "code",
   "execution_count": 49,
   "id": "f70f8def-343f-4db6-bd80-581513cb992a",
   "metadata": {},
   "outputs": [
    {
     "data": {
      "text/plain": [
       "<Experiment: artifact_location='/Users/sohaibarshid/Desktop/MLOps-Zoomcamp-learning/02-tracking/artifacts', creation_time=1716981348011, experiment_id='3', last_update_time=1716981348011, lifecycle_stage='active', name='yellow-taxi-nyc-artifact', tags={}>"
      ]
     },
     "execution_count": 49,
     "metadata": {},
     "output_type": "execute_result"
    }
   ],
   "source": [
    "mlflow.set_tracking_uri(\"sqlite:///mlflow.db\")\n",
    "mlflow.set_experiment(\"yellow-taxi-nyc-artifact\")"
   ]
  },
  {
   "cell_type": "code",
   "execution_count": 3,
   "id": "a7229dd6-45c1-4031-aa85-00059e72e5c2",
   "metadata": {},
   "outputs": [],
   "source": [
    "taxi_data_1 = pd.read_parquet('../01-intro/data/yellow_tripdata_2024-01.parquet')\n",
    "taxi_data_2 = pd.read_parquet('../01-intro/data/yellow_tripdata_2024-02.parquet')"
   ]
  },
  {
   "cell_type": "code",
   "execution_count": 4,
   "id": "40f73c71-90a5-4167-8688-f7974bea9622",
   "metadata": {},
   "outputs": [
    {
     "name": "stdout",
     "output_type": "stream",
     "text": [
      "Number of columns in the Jan data 19\n"
     ]
    }
   ],
   "source": [
    "print('Number of columns in the Jan data {}'.format(len(taxi_data_1.columns)))"
   ]
  },
  {
   "cell_type": "markdown",
   "id": "2d135579-f2fb-42b3-b175-71bfc56b7e5f",
   "metadata": {},
   "source": [
    "### Homework Question 1: Number of Columns"
   ]
  },
  {
   "cell_type": "code",
   "execution_count": 5,
   "id": "2166c82f-b3bc-4a55-97f7-7bd866c65ef0",
   "metadata": {},
   "outputs": [
    {
     "data": {
      "text/plain": [
       "'There are [19] columns in the yellow trip data for the month of January.'"
      ]
     },
     "execution_count": 5,
     "metadata": {},
     "output_type": "execute_result"
    }
   ],
   "source": [
    "\"There are [{}] columns in the yellow trip data for the month of January.\".format(len(taxi_data_1.columns))"
   ]
  },
  {
   "cell_type": "code",
   "execution_count": 6,
   "id": "fc8858e6-e7c7-4fab-af38-8c58f8bd7758",
   "metadata": {},
   "outputs": [
    {
     "name": "stdout",
     "output_type": "stream",
     "text": [
      "Total number of rows 2964624\n",
      "\n",
      "Number of non zero values in each column\n",
      "VendorID                 2964624\n",
      "tpep_pickup_datetime     2964624\n",
      "tpep_dropoff_datetime    2964624\n",
      "passenger_count          2824462\n",
      "trip_distance            2964624\n",
      "RatecodeID               2824462\n",
      "store_and_fwd_flag       2824462\n",
      "PULocationID             2964624\n",
      "DOLocationID             2964624\n",
      "payment_type             2964624\n",
      "fare_amount              2964624\n",
      "extra                    2964624\n",
      "mta_tax                  2964624\n",
      "tip_amount               2964624\n",
      "tolls_amount             2964624\n",
      "improvement_surcharge    2964624\n",
      "total_amount             2964624\n",
      "congestion_surcharge     2824462\n",
      "Airport_fee              2824462\n",
      "dtype: int64\n"
     ]
    }
   ],
   "source": [
    "'''\n",
    "Counting the non-NA cells for each column or row\n",
    "'''\n",
    "print(\"Total number of rows {}\".format(len(taxi_data_1)))\n",
    "print()\n",
    "print('Number of non zero values in each column')\n",
    "print(taxi_data_1.count())"
   ]
  },
  {
   "cell_type": "markdown",
   "id": "43576830-472e-49d5-b137-0ffb65583463",
   "metadata": {},
   "source": [
    "### Homework Question 2: Computing Duration"
   ]
  },
  {
   "cell_type": "code",
   "execution_count": 7,
   "id": "0301d8d3-2c56-41d6-ac1b-cdc2d0adaa13",
   "metadata": {},
   "outputs": [
    {
     "name": "stdout",
     "output_type": "stream",
     "text": [
      "  tpep_pickup_datetime tpep_dropoff_datetime  duration_in_minutes\n",
      "0  2024-01-01 00:57:55   2024-01-01 01:17:43            19.800000\n",
      "1  2024-01-01 00:03:00   2024-01-01 00:09:36             6.600000\n",
      "2  2024-01-01 00:17:06   2024-01-01 00:35:01            17.916667\n",
      "3  2024-01-01 00:36:38   2024-01-01 00:44:56             8.300000\n",
      "4  2024-01-01 00:46:51   2024-01-01 00:52:57             6.100000\n"
     ]
    }
   ],
   "source": [
    "# Convert the columns to datetime if they are not already\n",
    "taxi_data_1['tpep_pickup_datetime'] = pd.to_datetime(taxi_data_1['tpep_pickup_datetime'])\n",
    "taxi_data_1['tpep_dropoff_datetime'] = pd.to_datetime(taxi_data_1['tpep_dropoff_datetime'])\n",
    "\n",
    "# Calculate the duration in minutes\n",
    "taxi_data_1['duration_in_minutes'] = (taxi_data_1['tpep_dropoff_datetime'] - taxi_data_1['tpep_pickup_datetime']).dt.total_seconds() / 60\n",
    "\n",
    "# Display the DataFrame with the new duration column\n",
    "print(taxi_data_1[['tpep_pickup_datetime', 'tpep_dropoff_datetime', 'duration_in_minutes']].head())"
   ]
  },
  {
   "cell_type": "code",
   "execution_count": 8,
   "id": "c4eb3a7b-510f-44c2-b07f-4459faa75631",
   "metadata": {},
   "outputs": [
    {
     "data": {
      "text/plain": [
       "34.851053592212814"
      ]
     },
     "execution_count": 8,
     "metadata": {},
     "output_type": "execute_result"
    }
   ],
   "source": [
    "taxi_data_1.duration_in_minutes.describe()[\"std\"]"
   ]
  },
  {
   "cell_type": "markdown",
   "id": "525ce575-888e-4f43-a8b9-cf3c5a079e5a",
   "metadata": {},
   "source": [
    "### Homework Question 3: Dropping Outliers"
   ]
  },
  {
   "cell_type": "code",
   "execution_count": 9,
   "id": "6731d4d2-7622-4feb-8f1b-563959ea4bb1",
   "metadata": {},
   "outputs": [
    {
     "data": {
      "text/plain": [
       "count    2.964624e+06\n",
       "mean     1.561295e+01\n",
       "std      3.485105e+01\n",
       "min     -1.356667e+01\n",
       "25%      7.150000e+00\n",
       "50%      1.163333e+01\n",
       "75%      1.868333e+01\n",
       "max      9.455400e+03\n",
       "Name: duration_in_minutes, dtype: float64"
      ]
     },
     "execution_count": 9,
     "metadata": {},
     "output_type": "execute_result"
    }
   ],
   "source": [
    "taxi_data_1.duration_in_minutes.describe()"
   ]
  },
  {
   "cell_type": "code",
   "execution_count": 10,
   "id": "7b26ade0-f40b-4dab-a388-c8a04d95f799",
   "metadata": {},
   "outputs": [],
   "source": [
    "# Remove outliers (keep records where the duration was between 1 and 60 minutes inclusive)\n",
    "taxi_filtered = taxi_data_1[(taxi_data_1['duration_in_minutes'] >= 1) & (taxi_data_1['duration_in_minutes'] <= 60)]"
   ]
  },
  {
   "cell_type": "code",
   "execution_count": 11,
   "id": "21fe3cd5-064a-4cf1-9404-6b46f6137b1a",
   "metadata": {},
   "outputs": [
    {
     "name": "stdout",
     "output_type": "stream",
     "text": [
      "The number of records left after filtering 98%\n"
     ]
    }
   ],
   "source": [
    "print(\"The number of records left after filtering {}%\".format(round(len(taxi_filtered) / len(taxi_data_1) * 100), 4))"
   ]
  },
  {
   "cell_type": "markdown",
   "id": "f0179d6a-bfc6-479a-971f-91b67c64683a",
   "metadata": {},
   "source": [
    "### Homework Question 4: One Hot Encoding"
   ]
  },
  {
   "cell_type": "code",
   "execution_count": 12,
   "id": "492f2b44-00e7-4063-b197-6f315c799008",
   "metadata": {},
   "outputs": [
    {
     "data": {
      "text/plain": [
       "dtype('int32')"
      ]
     },
     "execution_count": 12,
     "metadata": {},
     "output_type": "execute_result"
    }
   ],
   "source": [
    "taxi_data_1.PULocationID.dtype"
   ]
  },
  {
   "cell_type": "code",
   "execution_count": 13,
   "id": "d935e791-d02d-4b83-8d7f-01e743c1cbac",
   "metadata": {},
   "outputs": [
    {
     "name": "stdout",
     "output_type": "stream",
     "text": [
      "260\n",
      "261\n"
     ]
    }
   ],
   "source": [
    "print(len(taxi_data_1.PULocationID.unique()))\n",
    "print(len(taxi_data_1.DOLocationID.unique()))"
   ]
  },
  {
   "cell_type": "markdown",
   "id": "e4210b22-3b73-4aa6-b3a9-4abe1a081536",
   "metadata": {},
   "source": [
    "In order to do one-hot encoding on the pickup/dropoff location ID, we need to first convert the variable into a string and then proceed with the next steps"
   ]
  },
  {
   "cell_type": "code",
   "execution_count": 14,
   "id": "e94f9d48-c3a9-4e30-8ab9-c8298b243bf9",
   "metadata": {},
   "outputs": [],
   "source": [
    "def data_transformations(df: pd.DataFrame, datatype: str, vectorizer: DictVectorizer):\n",
    "    # Convert pickup and dropoff location IDs to strings\n",
    "    df['PULocationID'] = df['PULocationID'].astype(str)\n",
    "    df['DOLocationID'] = df['DOLocationID'].astype(str)\n",
    "\n",
    "    # Create a list of dictionaries from the DataFrame\n",
    "    records = df[['PULocationID', 'DOLocationID']].to_dict(orient='records')\n",
    "    \n",
    "    \n",
    "    if datatype == 'train':\n",
    "        X = vectorizer.fit_transform(records)\n",
    "    else:\n",
    "        X = vectorizer.transform(records)\n",
    "        \n",
    "    # Print the feature names and the feature matrix\n",
    "    print('The dimensionality of the DictVectorizer for the {} data is {}'.format(datatype, X.shape))\n",
    "    return X    "
   ]
  },
  {
   "cell_type": "code",
   "execution_count": 15,
   "id": "1bc7e5ef-099f-4781-bfde-8be54b1d5423",
   "metadata": {},
   "outputs": [
    {
     "name": "stderr",
     "output_type": "stream",
     "text": [
      "/var/folders/y2/f6l0j67j7cj6gm4wh3010c4w0000gn/T/ipykernel_17142/844420822.py:3: SettingWithCopyWarning: \n",
      "A value is trying to be set on a copy of a slice from a DataFrame.\n",
      "Try using .loc[row_indexer,col_indexer] = value instead\n",
      "\n",
      "See the caveats in the documentation: https://pandas.pydata.org/pandas-docs/stable/user_guide/indexing.html#returning-a-view-versus-a-copy\n",
      "  df['PULocationID'] = df['PULocationID'].astype(str)\n",
      "/var/folders/y2/f6l0j67j7cj6gm4wh3010c4w0000gn/T/ipykernel_17142/844420822.py:4: SettingWithCopyWarning: \n",
      "A value is trying to be set on a copy of a slice from a DataFrame.\n",
      "Try using .loc[row_indexer,col_indexer] = value instead\n",
      "\n",
      "See the caveats in the documentation: https://pandas.pydata.org/pandas-docs/stable/user_guide/indexing.html#returning-a-view-versus-a-copy\n",
      "  df['DOLocationID'] = df['DOLocationID'].astype(str)\n"
     ]
    },
    {
     "name": "stdout",
     "output_type": "stream",
     "text": [
      "The dimensionality of the DictVectorizer for the train data is (2898906, 518)\n"
     ]
    }
   ],
   "source": [
    "# Fit a dictionary vectorizer\n",
    "vectorizer = DictVectorizer(sparse=True)\n",
    "X = data_transformations(taxi_filtered, 'train', vectorizer)"
   ]
  },
  {
   "cell_type": "markdown",
   "id": "4dadd162-1b66-4b9f-906f-f1f5812affe0",
   "metadata": {},
   "source": [
    "### Homework Question 5: Training a Model. RMSE on train"
   ]
  },
  {
   "cell_type": "code",
   "execution_count": 16,
   "id": "5606fe03-a546-4d9e-9443-acd6bb5d7846",
   "metadata": {},
   "outputs": [],
   "source": [
    "# label is obviously the duration of the trip in minutes (we created this in the previous steps)\n",
    "y = taxi_filtered['duration_in_minutes'].values"
   ]
  },
  {
   "cell_type": "code",
   "execution_count": 17,
   "id": "23dc4cb7-3b05-41d1-8ade-b22a9e5ea22e",
   "metadata": {},
   "outputs": [
    {
     "name": "stdout",
     "output_type": "stream",
     "text": [
      "(2898906,) (2898906, 518)\n"
     ]
    }
   ],
   "source": [
    "print(y.shape, X.shape)"
   ]
  },
  {
   "cell_type": "code",
   "execution_count": 21,
   "id": "71bc0613-c0ce-4e95-bfc9-38068fc163d2",
   "metadata": {},
   "outputs": [],
   "source": [
    "from sklearn.linear_model import Lasso, Ridge\n",
    "from hyperopt import fmin, tpe, hp, STATUS_OK, Trials\n",
    "from hyperopt.pyll import scope\n",
    "import xgboost as xgb"
   ]
  },
  {
   "cell_type": "code",
   "execution_count": 22,
   "id": "a17155ab-bdd8-4cc5-a55a-b245594ecebf",
   "metadata": {},
   "outputs": [
    {
     "name": "stderr",
     "output_type": "stream",
     "text": [
      "/var/folders/y2/f6l0j67j7cj6gm4wh3010c4w0000gn/T/ipykernel_17142/844420822.py:3: SettingWithCopyWarning: \n",
      "A value is trying to be set on a copy of a slice from a DataFrame.\n",
      "Try using .loc[row_indexer,col_indexer] = value instead\n",
      "\n",
      "See the caveats in the documentation: https://pandas.pydata.org/pandas-docs/stable/user_guide/indexing.html#returning-a-view-versus-a-copy\n",
      "  df['PULocationID'] = df['PULocationID'].astype(str)\n",
      "/var/folders/y2/f6l0j67j7cj6gm4wh3010c4w0000gn/T/ipykernel_17142/844420822.py:4: SettingWithCopyWarning: \n",
      "A value is trying to be set on a copy of a slice from a DataFrame.\n",
      "Try using .loc[row_indexer,col_indexer] = value instead\n",
      "\n",
      "See the caveats in the documentation: https://pandas.pydata.org/pandas-docs/stable/user_guide/indexing.html#returning-a-view-versus-a-copy\n",
      "  df['DOLocationID'] = df['DOLocationID'].astype(str)\n"
     ]
    },
    {
     "name": "stdout",
     "output_type": "stream",
     "text": [
      "The dimensionality of the DictVectorizer for the test data is (2938060, 518)\n"
     ]
    }
   ],
   "source": [
    "# Applying the same data transformations on the 'taxi dataset from feb 2023'\n",
    "# Convert the columns to datetime if they are not already\n",
    "taxi_data_2['tpep_pickup_datetime'] = pd.to_datetime(taxi_data_2['tpep_pickup_datetime'])\n",
    "taxi_data_2['tpep_dropoff_datetime'] = pd.to_datetime(taxi_data_2['tpep_dropoff_datetime'])\n",
    "\n",
    "# Calculate the duration in minutes\n",
    "taxi_data_2['duration_in_minutes'] = (taxi_data_2['tpep_dropoff_datetime'] - taxi_data_2['tpep_pickup_datetime']).dt.total_seconds() / 60\n",
    "# Remove outliers (keep records where the duration was between 1 and 60 minutes inclusive)\n",
    "taxi_2_filtered = taxi_data_2[(taxi_data_2['duration_in_minutes'] >= 1) & (taxi_data_2['duration_in_minutes'] <= 60)]\n",
    "\n",
    "X_test = data_transformations(taxi_2_filtered, 'test', vectorizer)\n",
    "y_test = taxi_2_filtered.duration_in_minutes"
   ]
  },
  {
   "cell_type": "code",
   "execution_count": 23,
   "id": "b878cfb5-34f7-4823-aff1-702b1b39af27",
   "metadata": {},
   "outputs": [],
   "source": [
    "train = xgb.DMatrix(X, label=y)\n",
    "valid = xgb.DMatrix(X_test, label=y_test)"
   ]
  },
  {
   "cell_type": "code",
   "execution_count": 26,
   "id": "eeeeecb7-e324-4c8e-868f-eba92659f3de",
   "metadata": {},
   "outputs": [],
   "source": [
    "def objective(params):\n",
    "    with mlflow.start_run():\n",
    "        mlflow.set_tag(\"model\", \"xgboost\")\n",
    "        mlflow.log_params(params)\n",
    "        booster = xgb.train(\n",
    "            params=params,\n",
    "            dtrain=train,\n",
    "            num_boost_round=100,\n",
    "            evals=[(valid, 'validation')],\n",
    "            early_stopping_rounds=50\n",
    "        )\n",
    "        y_pred = booster.predict(valid)\n",
    "        rmse = mean_squared_error(y_test, y_pred, squared=False)\n",
    "        mlflow.log_metric(\"rmse\", rmse)\n",
    "\n",
    "    return {'loss': rmse, 'status': STATUS_OK}"
   ]
  },
  {
   "cell_type": "code",
   "execution_count": 30,
   "id": "21af524c-7375-4ee8-aa8c-96e6713da08d",
   "metadata": {},
   "outputs": [
    {
     "name": "stdout",
     "output_type": "stream",
     "text": [
      "[0]\tvalidation-rmse:8.67855                                                                                                                                                                                         \n",
      "[1]\tvalidation-rmse:8.30225                                                                                                                                                                                         \n",
      "  0%|                                                                                                                                                                        | 0/10 [00:00<?, ?trial/s, best loss=?]"
     ]
    },
    {
     "name": "stderr",
     "output_type": "stream",
     "text": [
      "/Users/sohaibarshid/miniconda3/lib/python3.11/site-packages/xgboost/core.py:160: UserWarning: [12:50:20] WARNING: /Users/runner/work/xgboost/xgboost/src/objective/regression_obj.cu:209: reg:linear is now deprecated in favor of reg:squarederror.\n",
      "  warnings.warn(smsg, UserWarning)\n",
      "\n"
     ]
    },
    {
     "name": "stdout",
     "output_type": "stream",
     "text": [
      "[2]\tvalidation-rmse:8.17295                                                                                                                                                                                         \n",
      "[3]\tvalidation-rmse:8.05487                                                                                                                                                                                         \n",
      "[4]\tvalidation-rmse:7.93329                                                                                                                                                                                         \n",
      "[5]\tvalidation-rmse:7.84536                                                                                                                                                                                         \n",
      "[6]\tvalidation-rmse:7.75091                                                                                                                                                                                         \n",
      "[7]\tvalidation-rmse:7.70515                                                                                                                                                                                         \n",
      "[8]\tvalidation-rmse:7.64335                                                                                                                                                                                         \n",
      "[9]\tvalidation-rmse:7.61093                                                                                                                                                                                         \n",
      "[10]\tvalidation-rmse:7.56628                                                                                                                                                                                        \n",
      "[11]\tvalidation-rmse:7.53913                                                                                                                                                                                        \n",
      "[12]\tvalidation-rmse:7.49366                                                                                                                                                                                        \n",
      "[13]\tvalidation-rmse:7.37089                                                                                                                                                                                        \n",
      "[14]\tvalidation-rmse:7.32625                                                                                                                                                                                        \n",
      "[15]\tvalidation-rmse:7.30737                                                                                                                                                                                        \n",
      "[16]\tvalidation-rmse:7.22417                                                                                                                                                                                        \n",
      "[17]\tvalidation-rmse:7.20855                                                                                                                                                                                        \n",
      "[18]\tvalidation-rmse:7.19649                                                                                                                                                                                        \n",
      "[19]\tvalidation-rmse:7.17202                                                                                                                                                                                        \n",
      "[20]\tvalidation-rmse:7.15138                                                                                                                                                                                        \n",
      "[21]\tvalidation-rmse:7.14329                                                                                                                                                                                        \n",
      "[22]\tvalidation-rmse:7.12019                                                                                                                                                                                        \n",
      "[23]\tvalidation-rmse:7.09980                                                                                                                                                                                        \n",
      "[24]\tvalidation-rmse:7.08258                                                                                                                                                                                        \n",
      "[25]\tvalidation-rmse:7.07416                                                                                                                                                                                        \n",
      "[26]\tvalidation-rmse:7.06515                                                                                                                                                                                        \n",
      "[27]\tvalidation-rmse:7.01828                                                                                                                                                                                        \n",
      "[28]\tvalidation-rmse:6.93845                                                                                                                                                                                        \n",
      "[29]\tvalidation-rmse:6.88228                                                                                                                                                                                        \n",
      "[30]\tvalidation-rmse:6.87236                                                                                                                                                                                        \n",
      "[31]\tvalidation-rmse:6.86427                                                                                                                                                                                        \n",
      "[32]\tvalidation-rmse:6.85319                                                                                                                                                                                        \n",
      "[33]\tvalidation-rmse:6.84581                                                                                                                                                                                        \n",
      "[34]\tvalidation-rmse:6.83641                                                                                                                                                                                        \n",
      "[35]\tvalidation-rmse:6.80267                                                                                                                                                                                        \n",
      "[36]\tvalidation-rmse:6.79833                                                                                                                                                                                        \n",
      "[37]\tvalidation-rmse:6.79455                                                                                                                                                                                        \n",
      "[38]\tvalidation-rmse:6.76176                                                                                                                                                                                        \n",
      "[39]\tvalidation-rmse:6.75792                                                                                                                                                                                        \n",
      "[40]\tvalidation-rmse:6.71712                                                                                                                                                                                        \n",
      "[41]\tvalidation-rmse:6.69388                                                                                                                                                                                        \n",
      "[42]\tvalidation-rmse:6.68678                                                                                                                                                                                        \n",
      "[43]\tvalidation-rmse:6.63270                                                                                                                                                                                        \n",
      "[44]\tvalidation-rmse:6.62278                                                                                                                                                                                        \n",
      "[45]\tvalidation-rmse:6.62065                                                                                                                                                                                        \n",
      "[46]\tvalidation-rmse:6.58256                                                                                                                                                                                        \n",
      "[47]\tvalidation-rmse:6.57773                                                                                                                                                                                        \n",
      "[48]\tvalidation-rmse:6.57274                                                                                                                                                                                        \n",
      "[49]\tvalidation-rmse:6.56397                                                                                                                                                                                        \n",
      "[50]\tvalidation-rmse:6.55440                                                                                                                                                                                        \n",
      "[51]\tvalidation-rmse:6.53966                                                                                                                                                                                        \n",
      "[52]\tvalidation-rmse:6.53247                                                                                                                                                                                        \n",
      "[53]\tvalidation-rmse:6.50918                                                                                                                                                                                        \n",
      "[54]\tvalidation-rmse:6.49728                                                                                                                                                                                        \n",
      "[55]\tvalidation-rmse:6.49216                                                                                                                                                                                        \n",
      "[56]\tvalidation-rmse:6.48788                                                                                                                                                                                        \n",
      "[57]\tvalidation-rmse:6.43312                                                                                                                                                                                        \n",
      "[58]\tvalidation-rmse:6.38900                                                                                                                                                                                        \n",
      "[59]\tvalidation-rmse:6.38406                                                                                                                                                                                        \n",
      "[60]\tvalidation-rmse:6.38260                                                                                                                                                                                        \n",
      "[61]\tvalidation-rmse:6.37340                                                                                                                                                                                        \n",
      "[62]\tvalidation-rmse:6.35643                                                                                                                                                                                        \n",
      "[63]\tvalidation-rmse:6.32052                                                                                                                                                                                        \n",
      "[64]\tvalidation-rmse:6.28237                                                                                                                                                                                        \n",
      "[65]\tvalidation-rmse:6.27879                                                                                                                                                                                        \n",
      "[66]\tvalidation-rmse:6.26601                                                                                                                                                                                        \n",
      "[67]\tvalidation-rmse:6.24208                                                                                                                                                                                        \n",
      "[68]\tvalidation-rmse:6.21934                                                                                                                                                                                        \n",
      "[69]\tvalidation-rmse:6.21259                                                                                                                                                                                        \n",
      "[70]\tvalidation-rmse:6.21152                                                                                                                                                                                        \n",
      "[71]\tvalidation-rmse:6.20300                                                                                                                                                                                        \n",
      "[72]\tvalidation-rmse:6.18226                                                                                                                                                                                        \n",
      "[73]\tvalidation-rmse:6.18062                                                                                                                                                                                        \n",
      "[74]\tvalidation-rmse:6.17491                                                                                                                                                                                        \n",
      "[75]\tvalidation-rmse:6.17416                                                                                                                                                                                        \n",
      "[76]\tvalidation-rmse:6.17148                                                                                                                                                                                        \n",
      "[77]\tvalidation-rmse:6.16976                                                                                                                                                                                        \n",
      "[78]\tvalidation-rmse:6.16048                                                                                                                                                                                        \n",
      "[79]\tvalidation-rmse:6.14808                                                                                                                                                                                        \n",
      "[80]\tvalidation-rmse:6.14468                                                                                                                                                                                        \n",
      "[81]\tvalidation-rmse:6.13877                                                                                                                                                                                        \n",
      "[82]\tvalidation-rmse:6.13754                                                                                                                                                                                        \n",
      "[83]\tvalidation-rmse:6.13565                                                                                                                                                                                        \n",
      "[84]\tvalidation-rmse:6.12909                                                                                                                                                                                        \n",
      "[85]\tvalidation-rmse:6.10432                                                                                                                                                                                        \n",
      "[86]\tvalidation-rmse:6.08571                                                                                                                                                                                        \n",
      "[87]\tvalidation-rmse:6.06383                                                                                                                                                                                        \n",
      "[88]\tvalidation-rmse:6.04674                                                                                                                                                                                        \n",
      "[89]\tvalidation-rmse:6.04084                                                                                                                                                                                        \n",
      "[90]\tvalidation-rmse:6.02860                                                                                                                                                                                        \n",
      "[91]\tvalidation-rmse:6.01349                                                                                                                                                                                        \n",
      "[92]\tvalidation-rmse:6.00008                                                                                                                                                                                        \n",
      "[93]\tvalidation-rmse:5.99005                                                                                                                                                                                        \n",
      "[94]\tvalidation-rmse:5.98539                                                                                                                                                                                        \n",
      "[95]\tvalidation-rmse:5.97878                                                                                                                                                                                        \n",
      "[96]\tvalidation-rmse:5.97552                                                                                                                                                                                        \n",
      "[97]\tvalidation-rmse:5.96415                                                                                                                                                                                        \n",
      "[98]\tvalidation-rmse:5.96132                                                                                                                                                                                        \n",
      "[99]\tvalidation-rmse:5.96102                                                                                                                                                                                        \n",
      "[0]\tvalidation-rmse:8.30697                                                                                                                                                                                         \n",
      " 10%|██████████████▎                                                                                                                                | 1/10 [00:10<01:30, 10.10s/trial, best loss: 5.961015749053502]"
     ]
    },
    {
     "name": "stderr",
     "output_type": "stream",
     "text": [
      "/Users/sohaibarshid/miniconda3/lib/python3.11/site-packages/xgboost/core.py:160: UserWarning: [12:50:30] WARNING: /Users/runner/work/xgboost/xgboost/src/objective/regression_obj.cu:209: reg:linear is now deprecated in favor of reg:squarederror.\n",
      "  warnings.warn(smsg, UserWarning)\n",
      "\n"
     ]
    },
    {
     "name": "stdout",
     "output_type": "stream",
     "text": [
      "[1]\tvalidation-rmse:8.03216                                                                                                                                                                                         \n",
      "[2]\tvalidation-rmse:7.78160                                                                                                                                                                                         \n",
      "[3]\tvalidation-rmse:7.52678                                                                                                                                                                                         \n",
      "[4]\tvalidation-rmse:7.40833                                                                                                                                                                                         \n",
      "[5]\tvalidation-rmse:7.31798                                                                                                                                                                                         \n",
      "[6]\tvalidation-rmse:7.24863                                                                                                                                                                                         \n",
      "[7]\tvalidation-rmse:7.00776                                                                                                                                                                                         \n",
      "[8]\tvalidation-rmse:6.95389                                                                                                                                                                                         \n",
      "[9]\tvalidation-rmse:6.90197                                                                                                                                                                                         \n",
      "[10]\tvalidation-rmse:6.84194                                                                                                                                                                                        \n",
      "[11]\tvalidation-rmse:6.81536                                                                                                                                                                                        \n",
      "[12]\tvalidation-rmse:6.78185                                                                                                                                                                                        \n",
      "[13]\tvalidation-rmse:6.69218                                                                                                                                                                                        \n",
      "[14]\tvalidation-rmse:6.67187                                                                                                                                                                                        \n",
      "[15]\tvalidation-rmse:6.55108                                                                                                                                                                                        \n",
      "[16]\tvalidation-rmse:6.49126                                                                                                                                                                                        \n",
      "[17]\tvalidation-rmse:6.47051                                                                                                                                                                                        \n",
      "[18]\tvalidation-rmse:6.44963                                                                                                                                                                                        \n",
      "[19]\tvalidation-rmse:6.43472                                                                                                                                                                                        \n",
      "[20]\tvalidation-rmse:6.41109                                                                                                                                                                                        \n",
      "[21]\tvalidation-rmse:6.36501                                                                                                                                                                                        \n",
      "[22]\tvalidation-rmse:6.35222                                                                                                                                                                                        \n",
      "[23]\tvalidation-rmse:6.26714                                                                                                                                                                                        \n",
      "[24]\tvalidation-rmse:6.20455                                                                                                                                                                                        \n",
      "[25]\tvalidation-rmse:6.18430                                                                                                                                                                                        \n",
      "[26]\tvalidation-rmse:6.13847                                                                                                                                                                                        \n",
      "[27]\tvalidation-rmse:6.05032                                                                                                                                                                                        \n",
      "[28]\tvalidation-rmse:6.02148                                                                                                                                                                                        \n",
      "[29]\tvalidation-rmse:6.01235                                                                                                                                                                                        \n",
      "[30]\tvalidation-rmse:5.98662                                                                                                                                                                                        \n",
      "[31]\tvalidation-rmse:5.97891                                                                                                                                                                                        \n",
      "[32]\tvalidation-rmse:5.95466                                                                                                                                                                                        \n",
      "[33]\tvalidation-rmse:5.91011                                                                                                                                                                                        \n",
      "[34]\tvalidation-rmse:5.88157                                                                                                                                                                                        \n",
      "[35]\tvalidation-rmse:5.86007                                                                                                                                                                                        \n",
      "[36]\tvalidation-rmse:5.85348                                                                                                                                                                                        \n",
      "[37]\tvalidation-rmse:5.83927                                                                                                                                                                                        \n",
      "[38]\tvalidation-rmse:5.82648                                                                                                                                                                                        \n",
      "[39]\tvalidation-rmse:5.80858                                                                                                                                                                                        \n",
      "[40]\tvalidation-rmse:5.78816                                                                                                                                                                                        \n",
      "[41]\tvalidation-rmse:5.78432                                                                                                                                                                                        \n",
      "[42]\tvalidation-rmse:5.77575                                                                                                                                                                                        \n",
      "[43]\tvalidation-rmse:5.77378                                                                                                                                                                                        \n",
      "[44]\tvalidation-rmse:5.77112                                                                                                                                                                                        \n",
      "[45]\tvalidation-rmse:5.76049                                                                                                                                                                                        \n",
      "[46]\tvalidation-rmse:5.74573                                                                                                                                                                                        \n",
      "[47]\tvalidation-rmse:5.74354                                                                                                                                                                                        \n",
      "[48]\tvalidation-rmse:5.74086                                                                                                                                                                                        \n",
      "[49]\tvalidation-rmse:5.73566                                                                                                                                                                                        \n",
      "[50]\tvalidation-rmse:5.73477                                                                                                                                                                                        \n",
      "[51]\tvalidation-rmse:5.73393                                                                                                                                                                                        \n",
      "[52]\tvalidation-rmse:5.73052                                                                                                                                                                                        \n",
      "[53]\tvalidation-rmse:5.71803                                                                                                                                                                                        \n",
      "[54]\tvalidation-rmse:5.70392                                                                                                                                                                                        \n",
      "[55]\tvalidation-rmse:5.68878                                                                                                                                                                                        \n",
      "[56]\tvalidation-rmse:5.67588                                                                                                                                                                                        \n",
      "[57]\tvalidation-rmse:5.66745                                                                                                                                                                                        \n",
      "[58]\tvalidation-rmse:5.66032                                                                                                                                                                                        \n",
      "[59]\tvalidation-rmse:5.65328                                                                                                                                                                                        \n",
      "[60]\tvalidation-rmse:5.65193                                                                                                                                                                                        \n",
      "[61]\tvalidation-rmse:5.64892                                                                                                                                                                                        \n",
      "[62]\tvalidation-rmse:5.64754                                                                                                                                                                                        \n",
      "[63]\tvalidation-rmse:5.64447                                                                                                                                                                                        \n",
      "[64]\tvalidation-rmse:5.63467                                                                                                                                                                                        \n",
      "[65]\tvalidation-rmse:5.62935                                                                                                                                                                                        \n",
      "[66]\tvalidation-rmse:5.62419                                                                                                                                                                                        \n",
      "[67]\tvalidation-rmse:5.62138                                                                                                                                                                                        \n",
      "[68]\tvalidation-rmse:5.61872                                                                                                                                                                                        \n",
      "[69]\tvalidation-rmse:5.61147                                                                                                                                                                                        \n",
      "[70]\tvalidation-rmse:5.60788                                                                                                                                                                                        \n",
      "[71]\tvalidation-rmse:5.60298                                                                                                                                                                                        \n",
      "[72]\tvalidation-rmse:5.59773                                                                                                                                                                                        \n",
      "[73]\tvalidation-rmse:5.59247                                                                                                                                                                                        \n",
      "[74]\tvalidation-rmse:5.59009                                                                                                                                                                                        \n",
      "[75]\tvalidation-rmse:5.58684                                                                                                                                                                                        \n",
      "[76]\tvalidation-rmse:5.58377                                                                                                                                                                                        \n",
      "[77]\tvalidation-rmse:5.58102                                                                                                                                                                                        \n",
      "[78]\tvalidation-rmse:5.57998                                                                                                                                                                                        \n",
      "[79]\tvalidation-rmse:5.57648                                                                                                                                                                                        \n",
      "[80]\tvalidation-rmse:5.57506                                                                                                                                                                                        \n",
      "[81]\tvalidation-rmse:5.57272                                                                                                                                                                                        \n",
      "[82]\tvalidation-rmse:5.56830                                                                                                                                                                                        \n",
      "[83]\tvalidation-rmse:5.56708                                                                                                                                                                                        \n",
      "[84]\tvalidation-rmse:5.56593                                                                                                                                                                                        \n",
      "[85]\tvalidation-rmse:5.56473                                                                                                                                                                                        \n",
      "[86]\tvalidation-rmse:5.56135                                                                                                                                                                                        \n",
      "[87]\tvalidation-rmse:5.55803                                                                                                                                                                                        \n",
      "[88]\tvalidation-rmse:5.55533                                                                                                                                                                                        \n",
      "[89]\tvalidation-rmse:5.55321                                                                                                                                                                                        \n",
      "[90]\tvalidation-rmse:5.55101                                                                                                                                                                                        \n",
      "[91]\tvalidation-rmse:5.54962                                                                                                                                                                                        \n",
      "[92]\tvalidation-rmse:5.54807                                                                                                                                                                                        \n",
      "[93]\tvalidation-rmse:5.54613                                                                                                                                                                                        \n",
      "[94]\tvalidation-rmse:5.54295                                                                                                                                                                                        \n",
      "[95]\tvalidation-rmse:5.54041                                                                                                                                                                                        \n",
      "[96]\tvalidation-rmse:5.53927                                                                                                                                                                                        \n",
      "[97]\tvalidation-rmse:5.53851                                                                                                                                                                                        \n",
      "[98]\tvalidation-rmse:5.53661                                                                                                                                                                                        \n",
      "[99]\tvalidation-rmse:5.53549                                                                                                                                                                                        \n",
      "[0]\tvalidation-rmse:9.71335                                                                                                                                                                                         \n",
      " 20%|████████████████████████████▌                                                                                                                  | 2/10 [00:23<01:34, 11.77s/trial, best loss: 5.535486161102615]"
     ]
    },
    {
     "name": "stderr",
     "output_type": "stream",
     "text": [
      "/Users/sohaibarshid/miniconda3/lib/python3.11/site-packages/xgboost/core.py:160: UserWarning: [12:50:43] WARNING: /Users/runner/work/xgboost/xgboost/src/objective/regression_obj.cu:209: reg:linear is now deprecated in favor of reg:squarederror.\n",
      "  warnings.warn(smsg, UserWarning)\n",
      "\n"
     ]
    },
    {
     "name": "stdout",
     "output_type": "stream",
     "text": [
      "[1]\tvalidation-rmse:9.30936                                                                                                                                                                                         \n",
      "[2]\tvalidation-rmse:9.00912                                                                                                                                                                                         \n",
      "[3]\tvalidation-rmse:8.78815                                                                                                                                                                                         \n",
      "[4]\tvalidation-rmse:8.62052                                                                                                                                                                                         \n",
      "[5]\tvalidation-rmse:8.47332                                                                                                                                                                                         \n",
      "[6]\tvalidation-rmse:8.36944                                                                                                                                                                                         \n",
      "[7]\tvalidation-rmse:8.29517                                                                                                                                                                                         \n",
      "[8]\tvalidation-rmse:8.23380                                                                                                                                                                                         \n",
      "[9]\tvalidation-rmse:8.13764                                                                                                                                                                                         \n",
      "[10]\tvalidation-rmse:8.09704                                                                                                                                                                                        \n",
      "[11]\tvalidation-rmse:8.02078                                                                                                                                                                                        \n",
      "[12]\tvalidation-rmse:7.98679                                                                                                                                                                                        \n",
      "[13]\tvalidation-rmse:7.96090                                                                                                                                                                                        \n",
      "[14]\tvalidation-rmse:7.92988                                                                                                                                                                                        \n",
      "[15]\tvalidation-rmse:7.85687                                                                                                                                                                                        \n",
      "[16]\tvalidation-rmse:7.83526                                                                                                                                                                                        \n",
      "[17]\tvalidation-rmse:7.81322                                                                                                                                                                                        \n",
      "[18]\tvalidation-rmse:7.79283                                                                                                                                                                                        \n",
      "[19]\tvalidation-rmse:7.76891                                                                                                                                                                                        \n",
      "[20]\tvalidation-rmse:7.74889                                                                                                                                                                                        \n",
      "[21]\tvalidation-rmse:7.73633                                                                                                                                                                                        \n",
      "[22]\tvalidation-rmse:7.67377                                                                                                                                                                                        \n",
      "[23]\tvalidation-rmse:7.64643                                                                                                                                                                                        \n",
      "[24]\tvalidation-rmse:7.63591                                                                                                                                                                                        \n",
      "[25]\tvalidation-rmse:7.62081                                                                                                                                                                                        \n",
      "[26]\tvalidation-rmse:7.60369                                                                                                                                                                                        \n",
      "[27]\tvalidation-rmse:7.59179                                                                                                                                                                                        \n",
      "[28]\tvalidation-rmse:7.57987                                                                                                                                                                                        \n",
      "[29]\tvalidation-rmse:7.52306                                                                                                                                                                                        \n",
      "[30]\tvalidation-rmse:7.51392                                                                                                                                                                                        \n",
      "[31]\tvalidation-rmse:7.48987                                                                                                                                                                                        \n",
      "[32]\tvalidation-rmse:7.48310                                                                                                                                                                                        \n",
      "[33]\tvalidation-rmse:7.46957                                                                                                                                                                                        \n",
      "[34]\tvalidation-rmse:7.44874                                                                                                                                                                                        \n",
      "[35]\tvalidation-rmse:7.44270                                                                                                                                                                                        \n",
      "[36]\tvalidation-rmse:7.43390                                                                                                                                                                                        \n",
      "[37]\tvalidation-rmse:7.38382                                                                                                                                                                                        \n",
      "[38]\tvalidation-rmse:7.37836                                                                                                                                                                                        \n",
      "[39]\tvalidation-rmse:7.37161                                                                                                                                                                                        \n",
      "[40]\tvalidation-rmse:7.36332                                                                                                                                                                                        \n",
      "[41]\tvalidation-rmse:7.35725                                                                                                                                                                                        \n",
      "[42]\tvalidation-rmse:7.31175                                                                                                                                                                                        \n",
      "[43]\tvalidation-rmse:7.27359                                                                                                                                                                                        \n",
      "[44]\tvalidation-rmse:7.26614                                                                                                                                                                                        \n",
      "[45]\tvalidation-rmse:7.25994                                                                                                                                                                                        \n",
      "[46]\tvalidation-rmse:7.25350                                                                                                                                                                                        \n",
      "[47]\tvalidation-rmse:7.22261                                                                                                                                                                                        \n",
      "[48]\tvalidation-rmse:7.18594                                                                                                                                                                                        \n",
      "[49]\tvalidation-rmse:7.18188                                                                                                                                                                                        \n",
      "[50]\tvalidation-rmse:7.17342                                                                                                                                                                                        \n",
      "[51]\tvalidation-rmse:7.16940                                                                                                                                                                                        \n",
      "[52]\tvalidation-rmse:7.16348                                                                                                                                                                                        \n",
      "[53]\tvalidation-rmse:7.15789                                                                                                                                                                                        \n",
      "[54]\tvalidation-rmse:7.15327                                                                                                                                                                                        \n",
      "[55]\tvalidation-rmse:7.14961                                                                                                                                                                                        \n",
      "[56]\tvalidation-rmse:7.14451                                                                                                                                                                                        \n",
      "[57]\tvalidation-rmse:7.13960                                                                                                                                                                                        \n",
      "[58]\tvalidation-rmse:7.13003                                                                                                                                                                                        \n",
      "[59]\tvalidation-rmse:7.10015                                                                                                                                                                                        \n",
      "[60]\tvalidation-rmse:7.07083                                                                                                                                                                                        \n",
      "[61]\tvalidation-rmse:7.05911                                                                                                                                                                                        \n",
      "[62]\tvalidation-rmse:7.05619                                                                                                                                                                                        \n",
      "[63]\tvalidation-rmse:7.05243                                                                                                                                                                                        \n",
      "[64]\tvalidation-rmse:7.04560                                                                                                                                                                                        \n",
      "[65]\tvalidation-rmse:7.04092                                                                                                                                                                                        \n",
      "[66]\tvalidation-rmse:7.01843                                                                                                                                                                                        \n",
      "[67]\tvalidation-rmse:6.98843                                                                                                                                                                                        \n",
      "[68]\tvalidation-rmse:6.98586                                                                                                                                                                                        \n",
      "[69]\tvalidation-rmse:6.98277                                                                                                                                                                                        \n",
      "[70]\tvalidation-rmse:6.97239                                                                                                                                                                                        \n",
      "[71]\tvalidation-rmse:6.96948                                                                                                                                                                                        \n",
      "[72]\tvalidation-rmse:6.96625                                                                                                                                                                                        \n",
      "[73]\tvalidation-rmse:6.96308                                                                                                                                                                                        \n",
      "[74]\tvalidation-rmse:6.95297                                                                                                                                                                                        \n",
      "[75]\tvalidation-rmse:6.94988                                                                                                                                                                                        \n",
      "[76]\tvalidation-rmse:6.94795                                                                                                                                                                                        \n",
      "[77]\tvalidation-rmse:6.94539                                                                                                                                                                                        \n",
      "[78]\tvalidation-rmse:6.94198                                                                                                                                                                                        \n",
      "[79]\tvalidation-rmse:6.93419                                                                                                                                                                                        \n",
      "[80]\tvalidation-rmse:6.93095                                                                                                                                                                                        \n",
      "[81]\tvalidation-rmse:6.91271                                                                                                                                                                                        \n",
      "[82]\tvalidation-rmse:6.89158                                                                                                                                                                                        \n",
      "[83]\tvalidation-rmse:6.88911                                                                                                                                                                                        \n",
      "[84]\tvalidation-rmse:6.88276                                                                                                                                                                                        \n",
      "[85]\tvalidation-rmse:6.87908                                                                                                                                                                                        \n",
      "[86]\tvalidation-rmse:6.87582                                                                                                                                                                                        \n",
      "[87]\tvalidation-rmse:6.85958                                                                                                                                                                                        \n",
      "[88]\tvalidation-rmse:6.85736                                                                                                                                                                                        \n",
      "[89]\tvalidation-rmse:6.85498                                                                                                                                                                                        \n",
      "[90]\tvalidation-rmse:6.82912                                                                                                                                                                                        \n",
      "[91]\tvalidation-rmse:6.81058                                                                                                                                                                                        \n",
      "[92]\tvalidation-rmse:6.80831                                                                                                                                                                                        \n",
      "[93]\tvalidation-rmse:6.79992                                                                                                                                                                                        \n",
      "[94]\tvalidation-rmse:6.79813                                                                                                                                                                                        \n",
      "[95]\tvalidation-rmse:6.79311                                                                                                                                                                                        \n",
      "[96]\tvalidation-rmse:6.79126                                                                                                                                                                                        \n",
      "[97]\tvalidation-rmse:6.77989                                                                                                                                                                                        \n",
      "[98]\tvalidation-rmse:6.77704                                                                                                                                                                                        \n",
      "[99]\tvalidation-rmse:6.77581                                                                                                                                                                                        \n",
      "[0]\tvalidation-rmse:9.99594                                                                                                                                                                                         \n",
      " 30%|██████████████████████████████████████████▉                                                                                                    | 3/10 [00:34<01:21, 11.58s/trial, best loss: 5.535486161102615]"
     ]
    },
    {
     "name": "stderr",
     "output_type": "stream",
     "text": [
      "/Users/sohaibarshid/miniconda3/lib/python3.11/site-packages/xgboost/core.py:160: UserWarning: [12:50:54] WARNING: /Users/runner/work/xgboost/xgboost/src/objective/regression_obj.cu:209: reg:linear is now deprecated in favor of reg:squarederror.\n",
      "  warnings.warn(smsg, UserWarning)\n",
      "\n"
     ]
    },
    {
     "name": "stdout",
     "output_type": "stream",
     "text": [
      "[1]\tvalidation-rmse:9.76823                                                                                                                                                                                         \n",
      "[2]\tvalidation-rmse:9.57046                                                                                                                                                                                         \n",
      "[3]\tvalidation-rmse:9.38663                                                                                                                                                                                         \n",
      "[4]\tvalidation-rmse:9.22506                                                                                                                                                                                         \n",
      "[5]\tvalidation-rmse:9.08836                                                                                                                                                                                         \n",
      "[6]\tvalidation-rmse:8.96603                                                                                                                                                                                         \n",
      "[7]\tvalidation-rmse:8.85871                                                                                                                                                                                         \n",
      "[8]\tvalidation-rmse:8.76136                                                                                                                                                                                         \n",
      "[9]\tvalidation-rmse:8.67638                                                                                                                                                                                         \n",
      "[10]\tvalidation-rmse:8.58335                                                                                                                                                                                        \n",
      "[11]\tvalidation-rmse:8.51408                                                                                                                                                                                        \n",
      "[12]\tvalidation-rmse:8.45486                                                                                                                                                                                        \n",
      "[13]\tvalidation-rmse:8.39288                                                                                                                                                                                        \n",
      "[14]\tvalidation-rmse:8.34407                                                                                                                                                                                        \n",
      "[15]\tvalidation-rmse:8.29956                                                                                                                                                                                        \n",
      "[16]\tvalidation-rmse:8.26178                                                                                                                                                                                        \n",
      "[17]\tvalidation-rmse:8.20852                                                                                                                                                                                        \n",
      "[18]\tvalidation-rmse:8.17708                                                                                                                                                                                        \n",
      "[19]\tvalidation-rmse:8.14673                                                                                                                                                                                        \n",
      "[20]\tvalidation-rmse:8.12078                                                                                                                                                                                        \n",
      "[21]\tvalidation-rmse:8.09701                                                                                                                                                                                        \n",
      "[22]\tvalidation-rmse:8.05555                                                                                                                                                                                        \n",
      "[23]\tvalidation-rmse:8.03477                                                                                                                                                                                        \n",
      "[24]\tvalidation-rmse:8.01513                                                                                                                                                                                        \n",
      "[25]\tvalidation-rmse:7.96588                                                                                                                                                                                        \n",
      "[26]\tvalidation-rmse:7.94993                                                                                                                                                                                        \n",
      "[27]\tvalidation-rmse:7.92677                                                                                                                                                                                        \n",
      "[28]\tvalidation-rmse:7.89493                                                                                                                                                                                        \n",
      "[29]\tvalidation-rmse:7.88110                                                                                                                                                                                        \n",
      "[30]\tvalidation-rmse:7.86794                                                                                                                                                                                        \n",
      "[31]\tvalidation-rmse:7.85600                                                                                                                                                                                        \n",
      "[32]\tvalidation-rmse:7.84377                                                                                                                                                                                        \n",
      "[33]\tvalidation-rmse:7.79828                                                                                                                                                                                        \n",
      "[34]\tvalidation-rmse:7.78792                                                                                                                                                                                        \n",
      "[35]\tvalidation-rmse:7.77722                                                                                                                                                                                        \n",
      "[36]\tvalidation-rmse:7.74772                                                                                                                                                                                        \n",
      "[37]\tvalidation-rmse:7.73882                                                                                                                                                                                        \n",
      "[38]\tvalidation-rmse:7.70521                                                                                                                                                                                        \n",
      "[39]\tvalidation-rmse:7.69681                                                                                                                                                                                        \n",
      "[40]\tvalidation-rmse:7.68647                                                                                                                                                                                        \n",
      "[41]\tvalidation-rmse:7.67640                                                                                                                                                                                        \n",
      "[42]\tvalidation-rmse:7.66848                                                                                                                                                                                        \n",
      "[43]\tvalidation-rmse:7.66077                                                                                                                                                                                        \n",
      "[44]\tvalidation-rmse:7.62159                                                                                                                                                                                        \n",
      "[45]\tvalidation-rmse:7.61516                                                                                                                                                                                        \n",
      "[46]\tvalidation-rmse:7.58443                                                                                                                                                                                        \n",
      "[47]\tvalidation-rmse:7.57897                                                                                                                                                                                        \n",
      "[48]\tvalidation-rmse:7.57036                                                                                                                                                                                        \n",
      "[49]\tvalidation-rmse:7.53782                                                                                                                                                                                        \n",
      "[50]\tvalidation-rmse:7.53278                                                                                                                                                                                        \n",
      "[51]\tvalidation-rmse:7.52076                                                                                                                                                                                        \n",
      "[52]\tvalidation-rmse:7.51572                                                                                                                                                                                        \n",
      "[53]\tvalidation-rmse:7.49566                                                                                                                                                                                        \n",
      "[54]\tvalidation-rmse:7.46749                                                                                                                                                                                        \n",
      "[55]\tvalidation-rmse:7.46151                                                                                                                                                                                        \n",
      "[56]\tvalidation-rmse:7.44968                                                                                                                                                                                        \n",
      "[57]\tvalidation-rmse:7.44551                                                                                                                                                                                        \n",
      "[58]\tvalidation-rmse:7.44111                                                                                                                                                                                        \n",
      "[59]\tvalidation-rmse:7.43632                                                                                                                                                                                        \n",
      "[60]\tvalidation-rmse:7.40877                                                                                                                                                                                        \n",
      "[61]\tvalidation-rmse:7.38322                                                                                                                                                                                        \n",
      "[62]\tvalidation-rmse:7.37967                                                                                                                                                                                        \n",
      "[63]\tvalidation-rmse:7.37490                                                                                                                                                                                        \n",
      "[64]\tvalidation-rmse:7.37124                                                                                                                                                                                        \n",
      "[65]\tvalidation-rmse:7.36729                                                                                                                                                                                        \n",
      "[66]\tvalidation-rmse:7.34452                                                                                                                                                                                        \n",
      "[67]\tvalidation-rmse:7.33979                                                                                                                                                                                        \n",
      "[68]\tvalidation-rmse:7.33005                                                                                                                                                                                        \n",
      "[69]\tvalidation-rmse:7.32428                                                                                                                                                                                        \n",
      "[70]\tvalidation-rmse:7.32119                                                                                                                                                                                        \n",
      "[71]\tvalidation-rmse:7.31774                                                                                                                                                                                        \n",
      "[72]\tvalidation-rmse:7.31313                                                                                                                                                                                        \n",
      "[73]\tvalidation-rmse:7.30433                                                                                                                                                                                        \n",
      "[74]\tvalidation-rmse:7.30031                                                                                                                                                                                        \n",
      "[75]\tvalidation-rmse:7.29506                                                                                                                                                                                        \n",
      "[76]\tvalidation-rmse:7.29021                                                                                                                                                                                        \n",
      "[77]\tvalidation-rmse:7.26482                                                                                                                                                                                        \n",
      "[78]\tvalidation-rmse:7.26118                                                                                                                                                                                        \n",
      "[79]\tvalidation-rmse:7.25838                                                                                                                                                                                        \n",
      "[80]\tvalidation-rmse:7.25358                                                                                                                                                                                        \n",
      "[81]\tvalidation-rmse:7.25017                                                                                                                                                                                        \n",
      "[82]\tvalidation-rmse:7.24726                                                                                                                                                                                        \n",
      "[83]\tvalidation-rmse:7.24178                                                                                                                                                                                        \n",
      "[84]\tvalidation-rmse:7.22524                                                                                                                                                                                        \n",
      "[85]\tvalidation-rmse:7.20405                                                                                                                                                                                        \n",
      "[86]\tvalidation-rmse:7.17932                                                                                                                                                                                        \n",
      "[87]\tvalidation-rmse:7.17691                                                                                                                                                                                        \n",
      "[88]\tvalidation-rmse:7.17416                                                                                                                                                                                        \n",
      "[89]\tvalidation-rmse:7.17159                                                                                                                                                                                        \n",
      "[90]\tvalidation-rmse:7.16786                                                                                                                                                                                        \n",
      "[91]\tvalidation-rmse:7.16469                                                                                                                                                                                        \n",
      "[92]\tvalidation-rmse:7.14477                                                                                                                                                                                        \n",
      "[93]\tvalidation-rmse:7.14079                                                                                                                                                                                        \n",
      "[94]\tvalidation-rmse:7.13723                                                                                                                                                                                        \n",
      "[95]\tvalidation-rmse:7.13490                                                                                                                                                                                        \n",
      "[96]\tvalidation-rmse:7.11289                                                                                                                                                                                        \n",
      "[97]\tvalidation-rmse:7.11063                                                                                                                                                                                        \n",
      "[98]\tvalidation-rmse:7.09484                                                                                                                                                                                        \n",
      "[99]\tvalidation-rmse:7.09254                                                                                                                                                                                        \n",
      "[0]\tvalidation-rmse:9.17527                                                                                                                                                                                         \n",
      " 40%|█████████████████████████████████████████████████████████▏                                                                                     | 4/10 [00:47<01:13, 12.25s/trial, best loss: 5.535486161102615]"
     ]
    },
    {
     "name": "stderr",
     "output_type": "stream",
     "text": [
      "/Users/sohaibarshid/miniconda3/lib/python3.11/site-packages/xgboost/core.py:160: UserWarning: [12:51:08] WARNING: /Users/runner/work/xgboost/xgboost/src/objective/regression_obj.cu:209: reg:linear is now deprecated in favor of reg:squarederror.\n",
      "  warnings.warn(smsg, UserWarning)\n",
      "\n"
     ]
    },
    {
     "name": "stdout",
     "output_type": "stream",
     "text": [
      "[1]\tvalidation-rmse:8.61547                                                                                                                                                                                         \n",
      "[2]\tvalidation-rmse:8.30859                                                                                                                                                                                         \n",
      "[3]\tvalidation-rmse:8.10390                                                                                                                                                                                         \n",
      "[4]\tvalidation-rmse:7.99593                                                                                                                                                                                         \n",
      "[5]\tvalidation-rmse:7.79291                                                                                                                                                                                         \n",
      "[6]\tvalidation-rmse:7.73771                                                                                                                                                                                         \n",
      "[7]\tvalidation-rmse:7.64847                                                                                                                                                                                         \n",
      "[8]\tvalidation-rmse:7.57641                                                                                                                                                                                         \n",
      "[9]\tvalidation-rmse:7.44202                                                                                                                                                                                         \n",
      "[10]\tvalidation-rmse:7.33393                                                                                                                                                                                        \n",
      "[11]\tvalidation-rmse:7.31084                                                                                                                                                                                        \n",
      "[12]\tvalidation-rmse:7.28085                                                                                                                                                                                        \n",
      "[13]\tvalidation-rmse:7.26028                                                                                                                                                                                        \n",
      "[14]\tvalidation-rmse:7.14924                                                                                                                                                                                        \n",
      "[15]\tvalidation-rmse:7.10040                                                                                                                                                                                        \n",
      "[16]\tvalidation-rmse:7.08642                                                                                                                                                                                        \n",
      "[17]\tvalidation-rmse:7.07137                                                                                                                                                                                        \n",
      "[18]\tvalidation-rmse:7.04211                                                                                                                                                                                        \n",
      "[19]\tvalidation-rmse:7.02969                                                                                                                                                                                        \n",
      "[20]\tvalidation-rmse:6.96709                                                                                                                                                                                        \n",
      "[21]\tvalidation-rmse:6.95248                                                                                                                                                                                        \n",
      "[22]\tvalidation-rmse:6.93610                                                                                                                                                                                        \n",
      "[23]\tvalidation-rmse:6.91656                                                                                                                                                                                        \n",
      "[24]\tvalidation-rmse:6.90452                                                                                                                                                                                        \n",
      "[25]\tvalidation-rmse:6.89363                                                                                                                                                                                        \n",
      "[26]\tvalidation-rmse:6.88179                                                                                                                                                                                        \n",
      "[27]\tvalidation-rmse:6.86044                                                                                                                                                                                        \n",
      "[28]\tvalidation-rmse:6.85329                                                                                                                                                                                        \n",
      "[29]\tvalidation-rmse:6.84636                                                                                                                                                                                        \n",
      "[30]\tvalidation-rmse:6.83915                                                                                                                                                                                        \n",
      "[31]\tvalidation-rmse:6.75577                                                                                                                                                                                        \n",
      "[32]\tvalidation-rmse:6.74705                                                                                                                                                                                        \n",
      "[33]\tvalidation-rmse:6.71523                                                                                                                                                                                        \n",
      "[34]\tvalidation-rmse:6.66284                                                                                                                                                                                        \n",
      "[35]\tvalidation-rmse:6.59676                                                                                                                                                                                        \n",
      "[36]\tvalidation-rmse:6.59165                                                                                                                                                                                        \n",
      "[37]\tvalidation-rmse:6.58197                                                                                                                                                                                        \n",
      "[38]\tvalidation-rmse:6.57618                                                                                                                                                                                        \n",
      "[39]\tvalidation-rmse:6.56582                                                                                                                                                                                        \n",
      "[40]\tvalidation-rmse:6.55517                                                                                                                                                                                        \n",
      "[41]\tvalidation-rmse:6.55140                                                                                                                                                                                        \n",
      "[42]\tvalidation-rmse:6.54270                                                                                                                                                                                        \n",
      "[43]\tvalidation-rmse:6.53988                                                                                                                                                                                        \n",
      "[44]\tvalidation-rmse:6.50550                                                                                                                                                                                        \n",
      "[45]\tvalidation-rmse:6.43827                                                                                                                                                                                        \n",
      "[46]\tvalidation-rmse:6.43345                                                                                                                                                                                        \n",
      "[47]\tvalidation-rmse:6.39332                                                                                                                                                                                        \n",
      "[48]\tvalidation-rmse:6.35723                                                                                                                                                                                        \n",
      "[49]\tvalidation-rmse:6.35317                                                                                                                                                                                        \n",
      "[50]\tvalidation-rmse:6.33911                                                                                                                                                                                        \n",
      "[51]\tvalidation-rmse:6.33524                                                                                                                                                                                        \n",
      "[52]\tvalidation-rmse:6.33088                                                                                                                                                                                        \n",
      "[53]\tvalidation-rmse:6.32735                                                                                                                                                                                        \n",
      "[54]\tvalidation-rmse:6.32243                                                                                                                                                                                        \n",
      "[55]\tvalidation-rmse:6.32030                                                                                                                                                                                        \n",
      "[56]\tvalidation-rmse:6.28652                                                                                                                                                                                        \n",
      "[57]\tvalidation-rmse:6.26468                                                                                                                                                                                        \n",
      "[58]\tvalidation-rmse:6.23596                                                                                                                                                                                        \n",
      "[59]\tvalidation-rmse:6.23384                                                                                                                                                                                        \n",
      "[60]\tvalidation-rmse:6.23159                                                                                                                                                                                        \n",
      "[61]\tvalidation-rmse:6.22797                                                                                                                                                                                        \n",
      "[62]\tvalidation-rmse:6.22378                                                                                                                                                                                        \n",
      "[63]\tvalidation-rmse:6.22165                                                                                                                                                                                        \n",
      "[64]\tvalidation-rmse:6.21708                                                                                                                                                                                        \n",
      "[65]\tvalidation-rmse:6.21376                                                                                                                                                                                        \n",
      "[66]\tvalidation-rmse:6.20099                                                                                                                                                                                        \n",
      "[67]\tvalidation-rmse:6.19937                                                                                                                                                                                        \n",
      "[68]\tvalidation-rmse:6.19539                                                                                                                                                                                        \n",
      "[69]\tvalidation-rmse:6.16728                                                                                                                                                                                        \n",
      "[70]\tvalidation-rmse:6.15855                                                                                                                                                                                        \n",
      "[71]\tvalidation-rmse:6.13707                                                                                                                                                                                        \n",
      "[72]\tvalidation-rmse:6.11867                                                                                                                                                                                        \n",
      "[73]\tvalidation-rmse:6.11554                                                                                                                                                                                        \n",
      "[74]\tvalidation-rmse:6.11457                                                                                                                                                                                        \n",
      "[75]\tvalidation-rmse:6.11295                                                                                                                                                                                        \n",
      "[76]\tvalidation-rmse:6.10723                                                                                                                                                                                        \n",
      "[77]\tvalidation-rmse:6.10571                                                                                                                                                                                        \n",
      "[78]\tvalidation-rmse:6.10391                                                                                                                                                                                        \n",
      "[79]\tvalidation-rmse:6.10220                                                                                                                                                                                        \n",
      "[80]\tvalidation-rmse:6.09339                                                                                                                                                                                        \n",
      "[81]\tvalidation-rmse:6.08058                                                                                                                                                                                        \n",
      "[82]\tvalidation-rmse:6.04714                                                                                                                                                                                        \n",
      "[83]\tvalidation-rmse:6.03557                                                                                                                                                                                        \n",
      "[84]\tvalidation-rmse:6.00845                                                                                                                                                                                        \n",
      "[85]\tvalidation-rmse:5.99157                                                                                                                                                                                        \n",
      "[86]\tvalidation-rmse:5.98199                                                                                                                                                                                        \n",
      "[87]\tvalidation-rmse:5.98031                                                                                                                                                                                        \n",
      "[88]\tvalidation-rmse:5.96896                                                                                                                                                                                        \n",
      "[89]\tvalidation-rmse:5.96707                                                                                                                                                                                        \n",
      "[90]\tvalidation-rmse:5.96176                                                                                                                                                                                        \n",
      "[91]\tvalidation-rmse:5.95781                                                                                                                                                                                        \n",
      "[92]\tvalidation-rmse:5.95591                                                                                                                                                                                        \n",
      "[93]\tvalidation-rmse:5.95531                                                                                                                                                                                        \n",
      "[94]\tvalidation-rmse:5.95385                                                                                                                                                                                        \n",
      "[95]\tvalidation-rmse:5.95287                                                                                                                                                                                        \n",
      "[96]\tvalidation-rmse:5.93992                                                                                                                                                                                        \n",
      "[97]\tvalidation-rmse:5.93692                                                                                                                                                                                        \n",
      "[98]\tvalidation-rmse:5.93378                                                                                                                                                                                        \n",
      "[99]\tvalidation-rmse:5.92695                                                                                                                                                                                        \n",
      "[0]\tvalidation-rmse:8.50026                                                                                                                                                                                         \n",
      "[1]\tvalidation-rmse:8.32259                                                                                                                                                                                         \n",
      " 50%|███████████████████████████████████████████████████████████████████████▌                                                                       | 5/10 [01:01<01:03, 12.61s/trial, best loss: 5.535486161102615]"
     ]
    },
    {
     "name": "stderr",
     "output_type": "stream",
     "text": [
      "/Users/sohaibarshid/miniconda3/lib/python3.11/site-packages/xgboost/core.py:160: UserWarning: [12:51:21] WARNING: /Users/runner/work/xgboost/xgboost/src/objective/regression_obj.cu:209: reg:linear is now deprecated in favor of reg:squarederror.\n",
      "  warnings.warn(smsg, UserWarning)\n",
      "\n"
     ]
    },
    {
     "name": "stdout",
     "output_type": "stream",
     "text": [
      "[2]\tvalidation-rmse:8.21588                                                                                                                                                                                         \n",
      "[3]\tvalidation-rmse:8.14739                                                                                                                                                                                         \n",
      "[4]\tvalidation-rmse:8.07578                                                                                                                                                                                         \n",
      "[5]\tvalidation-rmse:8.03031                                                                                                                                                                                         \n",
      "[6]\tvalidation-rmse:7.95248                                                                                                                                                                                         \n",
      "[7]\tvalidation-rmse:7.87548                                                                                                                                                                                         \n",
      "[8]\tvalidation-rmse:7.83580                                                                                                                                                                                         \n",
      "[9]\tvalidation-rmse:7.80763                                                                                                                                                                                         \n",
      "[10]\tvalidation-rmse:7.74165                                                                                                                                                                                        \n",
      "[11]\tvalidation-rmse:7.71395                                                                                                                                                                                        \n",
      "[12]\tvalidation-rmse:7.68061                                                                                                                                                                                        \n",
      "[13]\tvalidation-rmse:7.65936                                                                                                                                                                                        \n",
      "[14]\tvalidation-rmse:7.62935                                                                                                                                                                                        \n",
      "[15]\tvalidation-rmse:7.58783                                                                                                                                                                                        \n",
      "[16]\tvalidation-rmse:7.57475                                                                                                                                                                                        \n",
      "[17]\tvalidation-rmse:7.55995                                                                                                                                                                                        \n",
      "[18]\tvalidation-rmse:7.53452                                                                                                                                                                                        \n",
      "[19]\tvalidation-rmse:7.52229                                                                                                                                                                                        \n",
      "[20]\tvalidation-rmse:7.44119                                                                                                                                                                                        \n",
      "[21]\tvalidation-rmse:7.41265                                                                                                                                                                                        \n",
      "[22]\tvalidation-rmse:7.38458                                                                                                                                                                                        \n",
      "[23]\tvalidation-rmse:7.35436                                                                                                                                                                                        \n",
      "[24]\tvalidation-rmse:7.33953                                                                                                                                                                                        \n",
      "[25]\tvalidation-rmse:7.33190                                                                                                                                                                                        \n",
      "[26]\tvalidation-rmse:7.32296                                                                                                                                                                                        \n",
      "[27]\tvalidation-rmse:7.27119                                                                                                                                                                                        \n",
      "[28]\tvalidation-rmse:7.25333                                                                                                                                                                                        \n",
      "[29]\tvalidation-rmse:7.23362                                                                                                                                                                                        \n",
      "[30]\tvalidation-rmse:7.22265                                                                                                                                                                                        \n",
      "[31]\tvalidation-rmse:7.21836                                                                                                                                                                                        \n",
      "[32]\tvalidation-rmse:7.19613                                                                                                                                                                                        \n",
      "[33]\tvalidation-rmse:7.18203                                                                                                                                                                                        \n",
      "[34]\tvalidation-rmse:7.17678                                                                                                                                                                                        \n",
      "[35]\tvalidation-rmse:7.14880                                                                                                                                                                                        \n",
      "[36]\tvalidation-rmse:7.14064                                                                                                                                                                                        \n",
      "[37]\tvalidation-rmse:7.13538                                                                                                                                                                                        \n",
      "[38]\tvalidation-rmse:7.11189                                                                                                                                                                                        \n",
      "[39]\tvalidation-rmse:7.04467                                                                                                                                                                                        \n",
      "[40]\tvalidation-rmse:7.03784                                                                                                                                                                                        \n",
      "[41]\tvalidation-rmse:7.03184                                                                                                                                                                                        \n",
      "[42]\tvalidation-rmse:7.01642                                                                                                                                                                                        \n",
      "[43]\tvalidation-rmse:7.01417                                                                                                                                                                                        \n",
      "[44]\tvalidation-rmse:6.99022                                                                                                                                                                                        \n",
      "[45]\tvalidation-rmse:6.98409                                                                                                                                                                                        \n",
      "[46]\tvalidation-rmse:6.98120                                                                                                                                                                                        \n",
      "[47]\tvalidation-rmse:6.97315                                                                                                                                                                                        \n",
      "[48]\tvalidation-rmse:6.96936                                                                                                                                                                                        \n",
      "[49]\tvalidation-rmse:6.96404                                                                                                                                                                                        \n",
      "[50]\tvalidation-rmse:6.96234                                                                                                                                                                                        \n",
      "[51]\tvalidation-rmse:6.93091                                                                                                                                                                                        \n",
      "[52]\tvalidation-rmse:6.89075                                                                                                                                                                                        \n",
      "[53]\tvalidation-rmse:6.85822                                                                                                                                                                                        \n",
      "[54]\tvalidation-rmse:6.82910                                                                                                                                                                                        \n",
      "[55]\tvalidation-rmse:6.80453                                                                                                                                                                                        \n",
      "[56]\tvalidation-rmse:6.80217                                                                                                                                                                                        \n",
      "[57]\tvalidation-rmse:6.78847                                                                                                                                                                                        \n",
      "[58]\tvalidation-rmse:6.77381                                                                                                                                                                                        \n",
      "[59]\tvalidation-rmse:6.76778                                                                                                                                                                                        \n",
      "[60]\tvalidation-rmse:6.76613                                                                                                                                                                                        \n",
      "[61]\tvalidation-rmse:6.76202                                                                                                                                                                                        \n",
      "[62]\tvalidation-rmse:6.75802                                                                                                                                                                                        \n",
      "[63]\tvalidation-rmse:6.73029                                                                                                                                                                                        \n",
      "[64]\tvalidation-rmse:6.70328                                                                                                                                                                                        \n",
      "[65]\tvalidation-rmse:6.69166                                                                                                                                                                                        \n",
      "[66]\tvalidation-rmse:6.67990                                                                                                                                                                                        \n",
      "[67]\tvalidation-rmse:6.67730                                                                                                                                                                                        \n",
      "[68]\tvalidation-rmse:6.67411                                                                                                                                                                                        \n",
      "[69]\tvalidation-rmse:6.67176                                                                                                                                                                                        \n",
      "[70]\tvalidation-rmse:6.64170                                                                                                                                                                                        \n",
      "[71]\tvalidation-rmse:6.61107                                                                                                                                                                                        \n",
      "[72]\tvalidation-rmse:6.58441                                                                                                                                                                                        \n",
      "[73]\tvalidation-rmse:6.56716                                                                                                                                                                                        \n",
      "[74]\tvalidation-rmse:6.56056                                                                                                                                                                                        \n",
      "[75]\tvalidation-rmse:6.53030                                                                                                                                                                                        \n",
      "[76]\tvalidation-rmse:6.50176                                                                                                                                                                                        \n",
      "[77]\tvalidation-rmse:6.47840                                                                                                                                                                                        \n",
      "[78]\tvalidation-rmse:6.45554                                                                                                                                                                                        \n",
      "[79]\tvalidation-rmse:6.44311                                                                                                                                                                                        \n",
      "[80]\tvalidation-rmse:6.44024                                                                                                                                                                                        \n",
      "[81]\tvalidation-rmse:6.43683                                                                                                                                                                                        \n",
      "[82]\tvalidation-rmse:6.42489                                                                                                                                                                                        \n",
      "[83]\tvalidation-rmse:6.40188                                                                                                                                                                                        \n",
      "[84]\tvalidation-rmse:6.38642                                                                                                                                                                                        \n",
      "[85]\tvalidation-rmse:6.37436                                                                                                                                                                                        \n",
      "[86]\tvalidation-rmse:6.36145                                                                                                                                                                                        \n",
      "[87]\tvalidation-rmse:6.35743                                                                                                                                                                                        \n",
      "[88]\tvalidation-rmse:6.35433                                                                                                                                                                                        \n",
      "[89]\tvalidation-rmse:6.33703                                                                                                                                                                                        \n",
      "[90]\tvalidation-rmse:6.33187                                                                                                                                                                                        \n",
      "[91]\tvalidation-rmse:6.31012                                                                                                                                                                                        \n",
      "[92]\tvalidation-rmse:6.29377                                                                                                                                                                                        \n",
      "[93]\tvalidation-rmse:6.27730                                                                                                                                                                                        \n",
      "[94]\tvalidation-rmse:6.26493                                                                                                                                                                                        \n",
      "[95]\tvalidation-rmse:6.25068                                                                                                                                                                                        \n",
      "[96]\tvalidation-rmse:6.23674                                                                                                                                                                                        \n",
      "[97]\tvalidation-rmse:6.22920                                                                                                                                                                                        \n",
      "[98]\tvalidation-rmse:6.21962                                                                                                                                                                                        \n",
      "[99]\tvalidation-rmse:6.20529                                                                                                                                                                                        \n",
      "[0]\tvalidation-rmse:8.22270                                                                                                                                                                                         \n",
      " 60%|█████████████████████████████████████████████████████████████████████████████████████▊                                                         | 6/10 [01:09<00:44, 11.11s/trial, best loss: 5.535486161102615]"
     ]
    },
    {
     "name": "stderr",
     "output_type": "stream",
     "text": [
      "/Users/sohaibarshid/miniconda3/lib/python3.11/site-packages/xgboost/core.py:160: UserWarning: [12:51:29] WARNING: /Users/runner/work/xgboost/xgboost/src/objective/regression_obj.cu:209: reg:linear is now deprecated in favor of reg:squarederror.\n",
      "  warnings.warn(smsg, UserWarning)\n",
      "\n"
     ]
    },
    {
     "name": "stdout",
     "output_type": "stream",
     "text": [
      "[1]\tvalidation-rmse:8.01909                                                                                                                                                                                         \n",
      "[2]\tvalidation-rmse:7.79031                                                                                                                                                                                         \n",
      "[3]\tvalidation-rmse:7.51896                                                                                                                                                                                         \n",
      "[4]\tvalidation-rmse:7.43064                                                                                                                                                                                         \n",
      "[5]\tvalidation-rmse:7.20353                                                                                                                                                                                         \n",
      "[6]\tvalidation-rmse:7.11903                                                                                                                                                                                         \n",
      "[7]\tvalidation-rmse:7.04970                                                                                                                                                                                         \n",
      "[8]\tvalidation-rmse:6.98551                                                                                                                                                                                         \n",
      "[9]\tvalidation-rmse:6.83920                                                                                                                                                                                         \n",
      "[10]\tvalidation-rmse:6.80057                                                                                                                                                                                        \n",
      "[11]\tvalidation-rmse:6.76577                                                                                                                                                                                        \n",
      "[12]\tvalidation-rmse:6.74663                                                                                                                                                                                        \n",
      "[13]\tvalidation-rmse:6.66757                                                                                                                                                                                        \n",
      "[14]\tvalidation-rmse:6.64581                                                                                                                                                                                        \n",
      "[15]\tvalidation-rmse:6.57236                                                                                                                                                                                        \n",
      "[16]\tvalidation-rmse:6.54508                                                                                                                                                                                        \n",
      "[17]\tvalidation-rmse:6.50152                                                                                                                                                                                        \n",
      "[18]\tvalidation-rmse:6.48307                                                                                                                                                                                        \n",
      "[19]\tvalidation-rmse:6.44080                                                                                                                                                                                        \n",
      "[20]\tvalidation-rmse:6.41454                                                                                                                                                                                        \n",
      "[21]\tvalidation-rmse:6.40693                                                                                                                                                                                        \n",
      "[22]\tvalidation-rmse:6.26938                                                                                                                                                                                        \n",
      "[23]\tvalidation-rmse:6.23157                                                                                                                                                                                        \n",
      "[24]\tvalidation-rmse:6.18278                                                                                                                                                                                        \n",
      "[25]\tvalidation-rmse:6.15408                                                                                                                                                                                        \n",
      "[26]\tvalidation-rmse:6.12154                                                                                                                                                                                        \n",
      "[27]\tvalidation-rmse:6.10468                                                                                                                                                                                        \n",
      "[28]\tvalidation-rmse:6.07299                                                                                                                                                                                        \n",
      "[29]\tvalidation-rmse:5.99616                                                                                                                                                                                        \n",
      "[30]\tvalidation-rmse:5.96442                                                                                                                                                                                        \n",
      "[31]\tvalidation-rmse:5.91969                                                                                                                                                                                        \n",
      "[32]\tvalidation-rmse:5.90563                                                                                                                                                                                        \n",
      "[33]\tvalidation-rmse:5.89015                                                                                                                                                                                        \n",
      "[34]\tvalidation-rmse:5.86742                                                                                                                                                                                        \n",
      "[35]\tvalidation-rmse:5.83714                                                                                                                                                                                        \n",
      "[36]\tvalidation-rmse:5.81090                                                                                                                                                                                        \n",
      "[37]\tvalidation-rmse:5.79865                                                                                                                                                                                        \n",
      "[38]\tvalidation-rmse:5.77772                                                                                                                                                                                        \n",
      "[39]\tvalidation-rmse:5.76038                                                                                                                                                                                        \n",
      "[40]\tvalidation-rmse:5.74640                                                                                                                                                                                        \n",
      "[41]\tvalidation-rmse:5.72930                                                                                                                                                                                        \n",
      "[42]\tvalidation-rmse:5.71780                                                                                                                                                                                        \n",
      "[43]\tvalidation-rmse:5.69917                                                                                                                                                                                        \n",
      "[44]\tvalidation-rmse:5.68848                                                                                                                                                                                        \n",
      "[45]\tvalidation-rmse:5.68308                                                                                                                                                                                        \n",
      "[46]\tvalidation-rmse:5.67511                                                                                                                                                                                        \n",
      "[47]\tvalidation-rmse:5.66623                                                                                                                                                                                        \n",
      "[48]\tvalidation-rmse:5.65606                                                                                                                                                                                        \n",
      "[49]\tvalidation-rmse:5.64968                                                                                                                                                                                        \n",
      "[50]\tvalidation-rmse:5.64455                                                                                                                                                                                        \n",
      "[51]\tvalidation-rmse:5.63877                                                                                                                                                                                        \n",
      "[52]\tvalidation-rmse:5.63175                                                                                                                                                                                        \n",
      "[53]\tvalidation-rmse:5.62846                                                                                                                                                                                        \n",
      "[54]\tvalidation-rmse:5.62387                                                                                                                                                                                        \n",
      "[55]\tvalidation-rmse:5.62009                                                                                                                                                                                        \n",
      "[56]\tvalidation-rmse:5.61411                                                                                                                                                                                        \n",
      "[57]\tvalidation-rmse:5.60900                                                                                                                                                                                        \n",
      "[58]\tvalidation-rmse:5.60578                                                                                                                                                                                        \n",
      "[59]\tvalidation-rmse:5.60313                                                                                                                                                                                        \n",
      "[60]\tvalidation-rmse:5.59860                                                                                                                                                                                        \n",
      "[61]\tvalidation-rmse:5.59628                                                                                                                                                                                        \n",
      "[62]\tvalidation-rmse:5.59276                                                                                                                                                                                        \n",
      "[63]\tvalidation-rmse:5.59106                                                                                                                                                                                        \n",
      "[64]\tvalidation-rmse:5.58892                                                                                                                                                                                        \n",
      "[65]\tvalidation-rmse:5.58631                                                                                                                                                                                        \n",
      "[66]\tvalidation-rmse:5.58396                                                                                                                                                                                        \n",
      "[67]\tvalidation-rmse:5.58156                                                                                                                                                                                        \n",
      "[68]\tvalidation-rmse:5.57773                                                                                                                                                                                        \n",
      "[69]\tvalidation-rmse:5.57604                                                                                                                                                                                        \n",
      "[70]\tvalidation-rmse:5.57546                                                                                                                                                                                        \n",
      "[71]\tvalidation-rmse:5.57372                                                                                                                                                                                        \n",
      "[72]\tvalidation-rmse:5.57063                                                                                                                                                                                        \n",
      "[73]\tvalidation-rmse:5.56709                                                                                                                                                                                        \n",
      "[74]\tvalidation-rmse:5.56490                                                                                                                                                                                        \n",
      "[75]\tvalidation-rmse:5.56255                                                                                                                                                                                        \n",
      "[76]\tvalidation-rmse:5.55965                                                                                                                                                                                        \n",
      "[77]\tvalidation-rmse:5.55723                                                                                                                                                                                        \n",
      "[78]\tvalidation-rmse:5.55390                                                                                                                                                                                        \n",
      "[79]\tvalidation-rmse:5.55102                                                                                                                                                                                        \n",
      "[80]\tvalidation-rmse:5.54885                                                                                                                                                                                        \n",
      "[81]\tvalidation-rmse:5.54658                                                                                                                                                                                        \n",
      "[82]\tvalidation-rmse:5.54508                                                                                                                                                                                        \n",
      "[83]\tvalidation-rmse:5.54334                                                                                                                                                                                        \n",
      "[84]\tvalidation-rmse:5.54105                                                                                                                                                                                        \n",
      "[85]\tvalidation-rmse:5.53967                                                                                                                                                                                        \n",
      "[86]\tvalidation-rmse:5.53841                                                                                                                                                                                        \n",
      "[87]\tvalidation-rmse:5.53677                                                                                                                                                                                        \n",
      "[88]\tvalidation-rmse:5.53571                                                                                                                                                                                        \n",
      "[89]\tvalidation-rmse:5.53409                                                                                                                                                                                        \n",
      "[90]\tvalidation-rmse:5.53307                                                                                                                                                                                        \n",
      "[91]\tvalidation-rmse:5.53242                                                                                                                                                                                        \n",
      "[92]\tvalidation-rmse:5.53127                                                                                                                                                                                        \n",
      "[93]\tvalidation-rmse:5.53037                                                                                                                                                                                        \n",
      "[94]\tvalidation-rmse:5.52949                                                                                                                                                                                        \n",
      "[95]\tvalidation-rmse:5.52880                                                                                                                                                                                        \n",
      "[96]\tvalidation-rmse:5.52784                                                                                                                                                                                        \n",
      "[97]\tvalidation-rmse:5.52617                                                                                                                                                                                        \n",
      "[98]\tvalidation-rmse:5.52517                                                                                                                                                                                        \n",
      "[99]\tvalidation-rmse:5.52389                                                                                                                                                                                        \n",
      "[0]\tvalidation-rmse:8.28381                                                                                                                                                                                         \n",
      " 70%|████████████████████████████████████████████████████████████████████████████████████████████████████                                           | 7/10 [01:21<00:34, 11.54s/trial, best loss: 5.523886851790026]"
     ]
    },
    {
     "name": "stderr",
     "output_type": "stream",
     "text": [
      "/Users/sohaibarshid/miniconda3/lib/python3.11/site-packages/xgboost/core.py:160: UserWarning: [12:51:42] WARNING: /Users/runner/work/xgboost/xgboost/src/objective/regression_obj.cu:209: reg:linear is now deprecated in favor of reg:squarederror.\n",
      "  warnings.warn(smsg, UserWarning)\n",
      "\n"
     ]
    },
    {
     "name": "stdout",
     "output_type": "stream",
     "text": [
      "[1]\tvalidation-rmse:8.04847                                                                                                                                                                                         \n",
      "[2]\tvalidation-rmse:7.81150                                                                                                                                                                                         \n",
      "[3]\tvalidation-rmse:7.59574                                                                                                                                                                                         \n",
      "[4]\tvalidation-rmse:7.47599                                                                                                                                                                                         \n",
      "[5]\tvalidation-rmse:7.39759                                                                                                                                                                                         \n",
      "[6]\tvalidation-rmse:7.32366                                                                                                                                                                                         \n",
      "[7]\tvalidation-rmse:7.21673                                                                                                                                                                                         \n",
      "[8]\tvalidation-rmse:7.15546                                                                                                                                                                                         \n",
      "[9]\tvalidation-rmse:7.06057                                                                                                                                                                                         \n",
      "[10]\tvalidation-rmse:7.02180                                                                                                                                                                                        \n",
      "[11]\tvalidation-rmse:6.81374                                                                                                                                                                                        \n",
      "[12]\tvalidation-rmse:6.76310                                                                                                                                                                                        \n",
      "[13]\tvalidation-rmse:6.74042                                                                                                                                                                                        \n",
      "[14]\tvalidation-rmse:6.71538                                                                                                                                                                                        \n",
      "[15]\tvalidation-rmse:6.68381                                                                                                                                                                                        \n",
      "[16]\tvalidation-rmse:6.63701                                                                                                                                                                                        \n",
      "[17]\tvalidation-rmse:6.61619                                                                                                                                                                                        \n",
      "[18]\tvalidation-rmse:6.55283                                                                                                                                                                                        \n",
      "[19]\tvalidation-rmse:6.43026                                                                                                                                                                                        \n",
      "[20]\tvalidation-rmse:6.41454                                                                                                                                                                                        \n",
      "[21]\tvalidation-rmse:6.40491                                                                                                                                                                                        \n",
      "[22]\tvalidation-rmse:6.32807                                                                                                                                                                                        \n",
      "[23]\tvalidation-rmse:6.29985                                                                                                                                                                                        \n",
      "[24]\tvalidation-rmse:6.29363                                                                                                                                                                                        \n",
      "[25]\tvalidation-rmse:6.25253                                                                                                                                                                                        \n",
      "[26]\tvalidation-rmse:6.24613                                                                                                                                                                                        \n",
      "[27]\tvalidation-rmse:6.17875                                                                                                                                                                                        \n",
      "[28]\tvalidation-rmse:6.13218                                                                                                                                                                                        \n",
      "[29]\tvalidation-rmse:6.05167                                                                                                                                                                                        \n",
      "[30]\tvalidation-rmse:6.01209                                                                                                                                                                                        \n",
      "[31]\tvalidation-rmse:5.99020                                                                                                                                                                                        \n",
      "[32]\tvalidation-rmse:5.98336                                                                                                                                                                                        \n",
      "[33]\tvalidation-rmse:5.95856                                                                                                                                                                                        \n",
      "[34]\tvalidation-rmse:5.92714                                                                                                                                                                                        \n",
      "[35]\tvalidation-rmse:5.90760                                                                                                                                                                                        \n",
      "[36]\tvalidation-rmse:5.88186                                                                                                                                                                                        \n",
      "[37]\tvalidation-rmse:5.87058                                                                                                                                                                                        \n",
      "[38]\tvalidation-rmse:5.86372                                                                                                                                                                                        \n",
      "[39]\tvalidation-rmse:5.85088                                                                                                                                                                                        \n",
      "[40]\tvalidation-rmse:5.83366                                                                                                                                                                                        \n",
      "[41]\tvalidation-rmse:5.82084                                                                                                                                                                                        \n",
      "[42]\tvalidation-rmse:5.79617                                                                                                                                                                                        \n",
      "[43]\tvalidation-rmse:5.78709                                                                                                                                                                                        \n",
      "[44]\tvalidation-rmse:5.78164                                                                                                                                                                                        \n",
      "[45]\tvalidation-rmse:5.77872                                                                                                                                                                                        \n",
      "[46]\tvalidation-rmse:5.76961                                                                                                                                                                                        \n",
      "[47]\tvalidation-rmse:5.76701                                                                                                                                                                                        \n",
      "[48]\tvalidation-rmse:5.76295                                                                                                                                                                                        \n",
      "[49]\tvalidation-rmse:5.76013                                                                                                                                                                                        \n",
      "[50]\tvalidation-rmse:5.75676                                                                                                                                                                                        \n",
      "[51]\tvalidation-rmse:5.74788                                                                                                                                                                                        \n",
      "[52]\tvalidation-rmse:5.73147                                                                                                                                                                                        \n",
      "[53]\tvalidation-rmse:5.72146                                                                                                                                                                                        \n",
      "[54]\tvalidation-rmse:5.71488                                                                                                                                                                                        \n",
      "[55]\tvalidation-rmse:5.70316                                                                                                                                                                                        \n",
      "[56]\tvalidation-rmse:5.69919                                                                                                                                                                                        \n",
      "[57]\tvalidation-rmse:5.68771                                                                                                                                                                                        \n",
      "[58]\tvalidation-rmse:5.67737                                                                                                                                                                                        \n",
      "[59]\tvalidation-rmse:5.66952                                                                                                                                                                                        \n",
      "[60]\tvalidation-rmse:5.66284                                                                                                                                                                                        \n",
      "[61]\tvalidation-rmse:5.65696                                                                                                                                                                                        \n",
      "[62]\tvalidation-rmse:5.65332                                                                                                                                                                                        \n",
      "[63]\tvalidation-rmse:5.64852                                                                                                                                                                                        \n",
      "[64]\tvalidation-rmse:5.64416                                                                                                                                                                                        \n",
      "[65]\tvalidation-rmse:5.63940                                                                                                                                                                                        \n",
      "[66]\tvalidation-rmse:5.63852                                                                                                                                                                                        \n",
      "[67]\tvalidation-rmse:5.63830                                                                                                                                                                                        \n",
      "[68]\tvalidation-rmse:5.63648                                                                                                                                                                                        \n",
      "[69]\tvalidation-rmse:5.63463                                                                                                                                                                                        \n",
      "[70]\tvalidation-rmse:5.63363                                                                                                                                                                                        \n",
      "[71]\tvalidation-rmse:5.63321                                                                                                                                                                                        \n",
      "[72]\tvalidation-rmse:5.63252                                                                                                                                                                                        \n",
      "[73]\tvalidation-rmse:5.63184                                                                                                                                                                                        \n",
      "[74]\tvalidation-rmse:5.62956                                                                                                                                                                                        \n",
      "[75]\tvalidation-rmse:5.62663                                                                                                                                                                                        \n",
      "[76]\tvalidation-rmse:5.62343                                                                                                                                                                                        \n",
      "[77]\tvalidation-rmse:5.62268                                                                                                                                                                                        \n",
      "[78]\tvalidation-rmse:5.62225                                                                                                                                                                                        \n",
      "[79]\tvalidation-rmse:5.61952                                                                                                                                                                                        \n",
      "[80]\tvalidation-rmse:5.61707                                                                                                                                                                                        \n",
      "[81]\tvalidation-rmse:5.61399                                                                                                                                                                                        \n",
      "[82]\tvalidation-rmse:5.61218                                                                                                                                                                                        \n",
      "[83]\tvalidation-rmse:5.61047                                                                                                                                                                                        \n",
      "[84]\tvalidation-rmse:5.60788                                                                                                                                                                                        \n",
      "[85]\tvalidation-rmse:5.60535                                                                                                                                                                                        \n",
      "[86]\tvalidation-rmse:5.60314                                                                                                                                                                                        \n",
      "[87]\tvalidation-rmse:5.59846                                                                                                                                                                                        \n",
      "[88]\tvalidation-rmse:5.59573                                                                                                                                                                                        \n",
      "[89]\tvalidation-rmse:5.59273                                                                                                                                                                                        \n",
      "[90]\tvalidation-rmse:5.59063                                                                                                                                                                                        \n",
      "[91]\tvalidation-rmse:5.58945                                                                                                                                                                                        \n",
      "[92]\tvalidation-rmse:5.58875                                                                                                                                                                                        \n",
      "[93]\tvalidation-rmse:5.58661                                                                                                                                                                                        \n",
      "[94]\tvalidation-rmse:5.58628                                                                                                                                                                                        \n",
      "[95]\tvalidation-rmse:5.58561                                                                                                                                                                                        \n",
      "[96]\tvalidation-rmse:5.58478                                                                                                                                                                                        \n",
      "[97]\tvalidation-rmse:5.58255                                                                                                                                                                                        \n",
      "[98]\tvalidation-rmse:5.58076                                                                                                                                                                                        \n",
      "[99]\tvalidation-rmse:5.57986                                                                                                                                                                                        \n",
      "[0]\tvalidation-rmse:10.09009                                                                                                                                                                                        \n",
      "[1]\tvalidation-rmse:9.94150                                                                                                                                                                                         \n",
      " 80%|██████████████████████████████████████████████████████████████████████████████████████████████████████████████████▍                            | 8/10 [01:34<00:23, 11.79s/trial, best loss: 5.523886851790026]"
     ]
    },
    {
     "name": "stderr",
     "output_type": "stream",
     "text": [
      "/Users/sohaibarshid/miniconda3/lib/python3.11/site-packages/xgboost/core.py:160: UserWarning: [12:51:54] WARNING: /Users/runner/work/xgboost/xgboost/src/objective/regression_obj.cu:209: reg:linear is now deprecated in favor of reg:squarederror.\n",
      "  warnings.warn(smsg, UserWarning)\n",
      "\n"
     ]
    },
    {
     "name": "stdout",
     "output_type": "stream",
     "text": [
      "[2]\tvalidation-rmse:9.80600                                                                                                                                                                                         \n",
      "[3]\tvalidation-rmse:9.68280                                                                                                                                                                                         \n",
      "[4]\tvalidation-rmse:9.57054                                                                                                                                                                                         \n",
      "[5]\tvalidation-rmse:9.46847                                                                                                                                                                                         \n",
      "[6]\tvalidation-rmse:9.37544                                                                                                                                                                                         \n",
      "[7]\tvalidation-rmse:9.29093                                                                                                                                                                                         \n",
      "[8]\tvalidation-rmse:9.21389                                                                                                                                                                                         \n",
      "[9]\tvalidation-rmse:9.14411                                                                                                                                                                                         \n",
      "[10]\tvalidation-rmse:9.08040                                                                                                                                                                                        \n",
      "[11]\tvalidation-rmse:9.02289                                                                                                                                                                                        \n",
      "[12]\tvalidation-rmse:8.97033                                                                                                                                                                                        \n",
      "[13]\tvalidation-rmse:8.92233                                                                                                                                                                                        \n",
      "[14]\tvalidation-rmse:8.87871                                                                                                                                                                                        \n",
      "[15]\tvalidation-rmse:8.83899                                                                                                                                                                                        \n",
      "[16]\tvalidation-rmse:8.80288                                                                                                                                                                                        \n",
      "[17]\tvalidation-rmse:8.76936                                                                                                                                                                                        \n",
      "[18]\tvalidation-rmse:8.73898                                                                                                                                                                                        \n",
      "[19]\tvalidation-rmse:8.71156                                                                                                                                                                                        \n",
      "[20]\tvalidation-rmse:8.68613                                                                                                                                                                                        \n",
      "[21]\tvalidation-rmse:8.66202                                                                                                                                                                                        \n",
      "[22]\tvalidation-rmse:8.64101                                                                                                                                                                                        \n",
      "[23]\tvalidation-rmse:8.61929                                                                                                                                                                                        \n",
      "[24]\tvalidation-rmse:8.60085                                                                                                                                                                                        \n",
      "[25]\tvalidation-rmse:8.58420                                                                                                                                                                                        \n",
      "[26]\tvalidation-rmse:8.56664                                                                                                                                                                                        \n",
      "[27]\tvalidation-rmse:8.55216                                                                                                                                                                                        \n",
      "[28]\tvalidation-rmse:8.53753                                                                                                                                                                                        \n",
      "[29]\tvalidation-rmse:8.52473                                                                                                                                                                                        \n",
      "[30]\tvalidation-rmse:8.51302                                                                                                                                                                                        \n",
      "[31]\tvalidation-rmse:8.50180                                                                                                                                                                                        \n",
      "[32]\tvalidation-rmse:8.49020                                                                                                                                                                                        \n",
      "[33]\tvalidation-rmse:8.47726                                                                                                                                                                                        \n",
      "[34]\tvalidation-rmse:8.46853                                                                                                                                                                                        \n",
      "[35]\tvalidation-rmse:8.45889                                                                                                                                                                                        \n",
      "[36]\tvalidation-rmse:8.45055                                                                                                                                                                                        \n",
      "[37]\tvalidation-rmse:8.43835                                                                                                                                                                                        \n",
      "[38]\tvalidation-rmse:8.43087                                                                                                                                                                                        \n",
      "[39]\tvalidation-rmse:8.42268                                                                                                                                                                                        \n",
      "[40]\tvalidation-rmse:8.41481                                                                                                                                                                                        \n",
      "[41]\tvalidation-rmse:8.40768                                                                                                                                                                                        \n",
      "[42]\tvalidation-rmse:8.39743                                                                                                                                                                                        \n",
      "[43]\tvalidation-rmse:8.39044                                                                                                                                                                                        \n",
      "[44]\tvalidation-rmse:8.38376                                                                                                                                                                                        \n",
      "[45]\tvalidation-rmse:8.37731                                                                                                                                                                                        \n",
      "[46]\tvalidation-rmse:8.37177                                                                                                                                                                                        \n",
      "[47]\tvalidation-rmse:8.36607                                                                                                                                                                                        \n",
      "[48]\tvalidation-rmse:8.35986                                                                                                                                                                                        \n",
      "[49]\tvalidation-rmse:8.35449                                                                                                                                                                                        \n",
      "[50]\tvalidation-rmse:8.34977                                                                                                                                                                                        \n",
      "[51]\tvalidation-rmse:8.34434                                                                                                                                                                                        \n",
      "[52]\tvalidation-rmse:8.33747                                                                                                                                                                                        \n",
      "[53]\tvalidation-rmse:8.33185                                                                                                                                                                                        \n",
      "[54]\tvalidation-rmse:8.32556                                                                                                                                                                                        \n",
      "[55]\tvalidation-rmse:8.32108                                                                                                                                                                                        \n",
      "[56]\tvalidation-rmse:8.31320                                                                                                                                                                                        \n",
      "[57]\tvalidation-rmse:8.30893                                                                                                                                                                                        \n",
      "[58]\tvalidation-rmse:8.30442                                                                                                                                                                                        \n",
      "[59]\tvalidation-rmse:8.29890                                                                                                                                                                                        \n",
      "[60]\tvalidation-rmse:8.29364                                                                                                                                                                                        \n",
      "[61]\tvalidation-rmse:8.28984                                                                                                                                                                                        \n",
      "[62]\tvalidation-rmse:8.28108                                                                                                                                                                                        \n",
      "[63]\tvalidation-rmse:8.27752                                                                                                                                                                                        \n",
      "[64]\tvalidation-rmse:8.27039                                                                                                                                                                                        \n",
      "[65]\tvalidation-rmse:8.26692                                                                                                                                                                                        \n",
      "[66]\tvalidation-rmse:8.26165                                                                                                                                                                                        \n",
      "[67]\tvalidation-rmse:8.25846                                                                                                                                                                                        \n",
      "[68]\tvalidation-rmse:8.25051                                                                                                                                                                                        \n",
      "[69]\tvalidation-rmse:8.24719                                                                                                                                                                                        \n",
      "[70]\tvalidation-rmse:8.24369                                                                                                                                                                                        \n",
      "[71]\tvalidation-rmse:8.23980                                                                                                                                                                                        \n",
      "[72]\tvalidation-rmse:8.23290                                                                                                                                                                                        \n",
      "[73]\tvalidation-rmse:8.22832                                                                                                                                                                                        \n",
      "[74]\tvalidation-rmse:8.22409                                                                                                                                                                                        \n",
      "[75]\tvalidation-rmse:8.22098                                                                                                                                                                                        \n",
      "[76]\tvalidation-rmse:8.21793                                                                                                                                                                                        \n",
      "[77]\tvalidation-rmse:8.21432                                                                                                                                                                                        \n",
      "[78]\tvalidation-rmse:8.21118                                                                                                                                                                                        \n",
      "[79]\tvalidation-rmse:8.20381                                                                                                                                                                                        \n",
      "[80]\tvalidation-rmse:8.19676                                                                                                                                                                                        \n",
      "[81]\tvalidation-rmse:8.19344                                                                                                                                                                                        \n",
      "[82]\tvalidation-rmse:8.18719                                                                                                                                                                                        \n",
      "[83]\tvalidation-rmse:8.18366                                                                                                                                                                                        \n",
      "[84]\tvalidation-rmse:8.18087                                                                                                                                                                                        \n",
      "[85]\tvalidation-rmse:8.17808                                                                                                                                                                                        \n",
      "[86]\tvalidation-rmse:8.17389                                                                                                                                                                                        \n",
      "[87]\tvalidation-rmse:8.17091                                                                                                                                                                                        \n",
      "[88]\tvalidation-rmse:8.16355                                                                                                                                                                                        \n",
      "[89]\tvalidation-rmse:8.16071                                                                                                                                                                                        \n",
      "[90]\tvalidation-rmse:8.15818                                                                                                                                                                                        \n",
      "[91]\tvalidation-rmse:8.15379                                                                                                                                                                                        \n",
      "[92]\tvalidation-rmse:8.14938                                                                                                                                                                                        \n",
      "[93]\tvalidation-rmse:8.14523                                                                                                                                                                                        \n",
      "[94]\tvalidation-rmse:8.14275                                                                                                                                                                                        \n",
      "[95]\tvalidation-rmse:8.14042                                                                                                                                                                                        \n",
      "[96]\tvalidation-rmse:8.13780                                                                                                                                                                                        \n",
      "[97]\tvalidation-rmse:8.13465                                                                                                                                                                                        \n",
      "[98]\tvalidation-rmse:8.13142                                                                                                                                                                                        \n",
      "[99]\tvalidation-rmse:8.12925                                                                                                                                                                                        \n",
      "[0]\tvalidation-rmse:9.94645                                                                                                                                                                                         \n",
      " 90%|████████████████████████████████████████████████████████████████████████████████████████████████████████████████████████████████▋              | 9/10 [01:41<00:10, 10.57s/trial, best loss: 5.523886851790026]"
     ]
    },
    {
     "name": "stderr",
     "output_type": "stream",
     "text": [
      "/Users/sohaibarshid/miniconda3/lib/python3.11/site-packages/xgboost/core.py:160: UserWarning: [12:52:02] WARNING: /Users/runner/work/xgboost/xgboost/src/objective/regression_obj.cu:209: reg:linear is now deprecated in favor of reg:squarederror.\n",
      "  warnings.warn(smsg, UserWarning)\n",
      "\n"
     ]
    },
    {
     "name": "stdout",
     "output_type": "stream",
     "text": [
      "[1]\tvalidation-rmse:9.68558                                                                                                                                                                                         \n",
      "[2]\tvalidation-rmse:9.45510                                                                                                                                                                                         \n",
      "[3]\tvalidation-rmse:9.26463                                                                                                                                                                                         \n",
      "[4]\tvalidation-rmse:9.09437                                                                                                                                                                                         \n",
      "[5]\tvalidation-rmse:8.95267                                                                                                                                                                                         \n",
      "[6]\tvalidation-rmse:8.83200                                                                                                                                                                                         \n",
      "[7]\tvalidation-rmse:8.71681                                                                                                                                                                                         \n",
      "[8]\tvalidation-rmse:8.62526                                                                                                                                                                                         \n",
      "[9]\tvalidation-rmse:8.54782                                                                                                                                                                                         \n",
      "[10]\tvalidation-rmse:8.47765                                                                                                                                                                                        \n",
      "[11]\tvalidation-rmse:8.40898                                                                                                                                                                                        \n",
      "[12]\tvalidation-rmse:8.35632                                                                                                                                                                                        \n",
      "[13]\tvalidation-rmse:8.31164                                                                                                                                                                                        \n",
      "[14]\tvalidation-rmse:8.27177                                                                                                                                                                                        \n",
      "[15]\tvalidation-rmse:8.23685                                                                                                                                                                                        \n",
      "[16]\tvalidation-rmse:8.17621                                                                                                                                                                                        \n",
      "[17]\tvalidation-rmse:8.14732                                                                                                                                                                                        \n",
      "[18]\tvalidation-rmse:8.09911                                                                                                                                                                                        \n",
      "[19]\tvalidation-rmse:8.07625                                                                                                                                                                                        \n",
      "[20]\tvalidation-rmse:8.05480                                                                                                                                                                                        \n",
      "[21]\tvalidation-rmse:8.03531                                                                                                                                                                                        \n",
      "[22]\tvalidation-rmse:8.00765                                                                                                                                                                                        \n",
      "[23]\tvalidation-rmse:7.96274                                                                                                                                                                                        \n",
      "[24]\tvalidation-rmse:7.94691                                                                                                                                                                                        \n",
      "[25]\tvalidation-rmse:7.93268                                                                                                                                                                                        \n",
      "[26]\tvalidation-rmse:7.89123                                                                                                                                                                                        \n",
      "[27]\tvalidation-rmse:7.87724                                                                                                                                                                                        \n",
      "[28]\tvalidation-rmse:7.86233                                                                                                                                                                                        \n",
      "[29]\tvalidation-rmse:7.85033                                                                                                                                                                                        \n",
      "[30]\tvalidation-rmse:7.81153                                                                                                                                                                                        \n",
      "[31]\tvalidation-rmse:7.80153                                                                                                                                                                                        \n",
      "[32]\tvalidation-rmse:7.78315                                                                                                                                                                                        \n",
      "[33]\tvalidation-rmse:7.77129                                                                                                                                                                                        \n",
      "[34]\tvalidation-rmse:7.76088                                                                                                                                                                                        \n",
      "[35]\tvalidation-rmse:7.71865                                                                                                                                                                                        \n",
      "[36]\tvalidation-rmse:7.71073                                                                                                                                                                                        \n",
      "[37]\tvalidation-rmse:7.69156                                                                                                                                                                                        \n",
      "[38]\tvalidation-rmse:7.68166                                                                                                                                                                                        \n",
      "[39]\tvalidation-rmse:7.67397                                                                                                                                                                                        \n",
      "[40]\tvalidation-rmse:7.63848                                                                                                                                                                                        \n",
      "[41]\tvalidation-rmse:7.63072                                                                                                                                                                                        \n",
      "[42]\tvalidation-rmse:7.62347                                                                                                                                                                                        \n",
      "[43]\tvalidation-rmse:7.60978                                                                                                                                                                                        \n",
      "[44]\tvalidation-rmse:7.60282                                                                                                                                                                                        \n",
      "[45]\tvalidation-rmse:7.59585                                                                                                                                                                                        \n",
      "[46]\tvalidation-rmse:7.58636                                                                                                                                                                                        \n",
      "[47]\tvalidation-rmse:7.57670                                                                                                                                                                                        \n",
      "[48]\tvalidation-rmse:7.54569                                                                                                                                                                                        \n",
      "[49]\tvalidation-rmse:7.53768                                                                                                                                                                                        \n",
      "[50]\tvalidation-rmse:7.53199                                                                                                                                                                                        \n",
      "[51]\tvalidation-rmse:7.52237                                                                                                                                                                                        \n",
      "[52]\tvalidation-rmse:7.49271                                                                                                                                                                                        \n",
      "[53]\tvalidation-rmse:7.48757                                                                                                                                                                                        \n",
      "[54]\tvalidation-rmse:7.48200                                                                                                                                                                                        \n",
      "[55]\tvalidation-rmse:7.47186                                                                                                                                                                                        \n",
      "[56]\tvalidation-rmse:7.46490                                                                                                                                                                                        \n",
      "[57]\tvalidation-rmse:7.45830                                                                                                                                                                                        \n",
      "[58]\tvalidation-rmse:7.44588                                                                                                                                                                                        \n",
      "[59]\tvalidation-rmse:7.44176                                                                                                                                                                                        \n",
      "[60]\tvalidation-rmse:7.43386                                                                                                                                                                                        \n",
      "[61]\tvalidation-rmse:7.41792                                                                                                                                                                                        \n",
      "[62]\tvalidation-rmse:7.41258                                                                                                                                                                                        \n",
      "[63]\tvalidation-rmse:7.40910                                                                                                                                                                                        \n",
      "[64]\tvalidation-rmse:7.40459                                                                                                                                                                                        \n",
      "[65]\tvalidation-rmse:7.37804                                                                                                                                                                                        \n",
      "[66]\tvalidation-rmse:7.37429                                                                                                                                                                                        \n",
      "[67]\tvalidation-rmse:7.36452                                                                                                                                                                                        \n",
      "[68]\tvalidation-rmse:7.36054                                                                                                                                                                                        \n",
      "[69]\tvalidation-rmse:7.35711                                                                                                                                                                                        \n",
      "[70]\tvalidation-rmse:7.35071                                                                                                                                                                                        \n",
      "[71]\tvalidation-rmse:7.34393                                                                                                                                                                                        \n",
      "[72]\tvalidation-rmse:7.34055                                                                                                                                                                                        \n",
      "[73]\tvalidation-rmse:7.33666                                                                                                                                                                                        \n",
      "[74]\tvalidation-rmse:7.32243                                                                                                                                                                                        \n",
      "[75]\tvalidation-rmse:7.29437                                                                                                                                                                                        \n",
      "[76]\tvalidation-rmse:7.28207                                                                                                                                                                                        \n",
      "[77]\tvalidation-rmse:7.27909                                                                                                                                                                                        \n",
      "[78]\tvalidation-rmse:7.27553                                                                                                                                                                                        \n",
      "[79]\tvalidation-rmse:7.27271                                                                                                                                                                                        \n",
      "[80]\tvalidation-rmse:7.24943                                                                                                                                                                                        \n",
      "[81]\tvalidation-rmse:7.24710                                                                                                                                                                                        \n",
      "[82]\tvalidation-rmse:7.23917                                                                                                                                                                                        \n",
      "[83]\tvalidation-rmse:7.23337                                                                                                                                                                                        \n",
      "[84]\tvalidation-rmse:7.23069                                                                                                                                                                                        \n",
      "[85]\tvalidation-rmse:7.22824                                                                                                                                                                                        \n",
      "[86]\tvalidation-rmse:7.22219                                                                                                                                                                                        \n",
      "[87]\tvalidation-rmse:7.21841                                                                                                                                                                                        \n",
      "[88]\tvalidation-rmse:7.20655                                                                                                                                                                                        \n",
      "[89]\tvalidation-rmse:7.20168                                                                                                                                                                                        \n",
      "[90]\tvalidation-rmse:7.19942                                                                                                                                                                                        \n",
      "[91]\tvalidation-rmse:7.19700                                                                                                                                                                                        \n",
      "[92]\tvalidation-rmse:7.19429                                                                                                                                                                                        \n",
      "[93]\tvalidation-rmse:7.19171                                                                                                                                                                                        \n",
      "[94]\tvalidation-rmse:7.18906                                                                                                                                                                                        \n",
      "[95]\tvalidation-rmse:7.18418                                                                                                                                                                                        \n",
      "[96]\tvalidation-rmse:7.17370                                                                                                                                                                                        \n",
      "[97]\tvalidation-rmse:7.14872                                                                                                                                                                                        \n",
      "[98]\tvalidation-rmse:7.14305                                                                                                                                                                                        \n",
      "[99]\tvalidation-rmse:7.14101                                                                                                                                                                                        \n",
      "100%|██████████████████████████████████████████████████████████████████████████████████████████████████████████████████████████████████████████████| 10/10 [01:53<00:00, 11.37s/trial, best loss: 5.523886851790026]\n"
     ]
    }
   ],
   "source": [
    "search_space = {\n",
    "    'max_depth': scope.int(hp.quniform('max_depth', 4, 20, 1)),\n",
    "    'learning_rate': hp.loguniform('learning_rate', -3, 0),\n",
    "    'reg_alpha': hp.loguniform('reg_alpha', -5, -1),\n",
    "    'reg_lambda': hp.loguniform('reg_lambda', -6, -1),\n",
    "    'min_child_weight': hp.loguniform('min_child_weight', -1, 3),\n",
    "    'objective': 'reg:linear',\n",
    "    'seed': 42\n",
    "}\n",
    "\n",
    "best_result = fmin(\n",
    "    fn=objective,\n",
    "    space=search_space,\n",
    "    algo=tpe.suggest,\n",
    "    max_evals=10,\n",
    "    trials=Trials()\n",
    ")"
   ]
  },
  {
   "cell_type": "code",
   "execution_count": 46,
   "id": "98077f07-7132-4676-8bb6-f9fdfe678519",
   "metadata": {},
   "outputs": [],
   "source": [
    "mlflow.xgboost.autolog(disable=True)\n",
    "import pickle\n",
    "import tempfile\n",
    "\n",
    "temp_dir = tempfile.mkdtemp()\n",
    "preprocessor_path = f\"{temp_dir}/preprocessor.b\""
   ]
  },
  {
   "cell_type": "code",
   "execution_count": 57,
   "id": "914ab72a-6b4e-4dc7-b794-55aa1966630a",
   "metadata": {},
   "outputs": [
    {
     "name": "stdout",
     "output_type": "stream",
     "text": [
      "[0]\tvalidation-rmse:8.16939\n"
     ]
    },
    {
     "name": "stderr",
     "output_type": "stream",
     "text": [
      "/Users/sohaibarshid/miniconda3/lib/python3.11/site-packages/xgboost/core.py:160: UserWarning: [13:25:35] WARNING: /Users/runner/work/xgboost/xgboost/src/objective/regression_obj.cu:209: reg:linear is now deprecated in favor of reg:squarederror.\n",
      "  warnings.warn(smsg, UserWarning)\n"
     ]
    },
    {
     "name": "stdout",
     "output_type": "stream",
     "text": [
      "[1]\tvalidation-rmse:7.91863\n",
      "[2]\tvalidation-rmse:7.52303\n",
      "[3]\tvalidation-rmse:7.41591\n",
      "[4]\tvalidation-rmse:7.31637\n",
      "[5]\tvalidation-rmse:7.18933\n",
      "[6]\tvalidation-rmse:7.12456\n",
      "[7]\tvalidation-rmse:6.95096\n",
      "[8]\tvalidation-rmse:6.73493\n",
      "[9]\tvalidation-rmse:6.70369\n",
      "[10]\tvalidation-rmse:6.66031\n",
      "[11]\tvalidation-rmse:6.63719\n",
      "[12]\tvalidation-rmse:6.61687\n",
      "[13]\tvalidation-rmse:6.47887\n",
      "[14]\tvalidation-rmse:6.45333\n",
      "[15]\tvalidation-rmse:6.41888\n",
      "[16]\tvalidation-rmse:6.40409\n",
      "[17]\tvalidation-rmse:6.35825\n",
      "[18]\tvalidation-rmse:6.26222\n",
      "[19]\tvalidation-rmse:6.23335\n",
      "[20]\tvalidation-rmse:6.22013\n",
      "[21]\tvalidation-rmse:6.17762\n",
      "[22]\tvalidation-rmse:6.07482\n",
      "[23]\tvalidation-rmse:6.01231\n",
      "[24]\tvalidation-rmse:5.99922\n",
      "[25]\tvalidation-rmse:5.98920\n",
      "[26]\tvalidation-rmse:5.95301\n",
      "[27]\tvalidation-rmse:5.94783\n",
      "[28]\tvalidation-rmse:5.89962\n",
      "[29]\tvalidation-rmse:5.88239\n",
      "[30]\tvalidation-rmse:5.86725\n",
      "[31]\tvalidation-rmse:5.83676\n",
      "[32]\tvalidation-rmse:5.80953\n",
      "[33]\tvalidation-rmse:5.77331\n",
      "[34]\tvalidation-rmse:5.74959\n",
      "[35]\tvalidation-rmse:5.72698\n",
      "[36]\tvalidation-rmse:5.71186\n",
      "[37]\tvalidation-rmse:5.69974\n",
      "[38]\tvalidation-rmse:5.69540\n",
      "[39]\tvalidation-rmse:5.68841\n",
      "[40]\tvalidation-rmse:5.67644\n",
      "[41]\tvalidation-rmse:5.65442\n",
      "[42]\tvalidation-rmse:5.64419\n",
      "[43]\tvalidation-rmse:5.63568\n",
      "[44]\tvalidation-rmse:5.63238\n",
      "[45]\tvalidation-rmse:5.62600\n",
      "[46]\tvalidation-rmse:5.61916\n",
      "[47]\tvalidation-rmse:5.61644\n",
      "[48]\tvalidation-rmse:5.60955\n",
      "[49]\tvalidation-rmse:5.60427\n",
      "[50]\tvalidation-rmse:5.59680\n",
      "[51]\tvalidation-rmse:5.58911\n",
      "[52]\tvalidation-rmse:5.58380\n",
      "[53]\tvalidation-rmse:5.57953\n",
      "[54]\tvalidation-rmse:5.57544\n",
      "[55]\tvalidation-rmse:5.57183\n",
      "[56]\tvalidation-rmse:5.56952\n",
      "[57]\tvalidation-rmse:5.56621\n",
      "[58]\tvalidation-rmse:5.56441\n",
      "[59]\tvalidation-rmse:5.56074\n",
      "[60]\tvalidation-rmse:5.55792\n",
      "[61]\tvalidation-rmse:5.55515\n",
      "[62]\tvalidation-rmse:5.55278\n",
      "[63]\tvalidation-rmse:5.55133\n",
      "[64]\tvalidation-rmse:5.54882\n",
      "[65]\tvalidation-rmse:5.54628\n",
      "[66]\tvalidation-rmse:5.54441\n",
      "[67]\tvalidation-rmse:5.54344\n",
      "[68]\tvalidation-rmse:5.54238\n",
      "[69]\tvalidation-rmse:5.54139\n",
      "[70]\tvalidation-rmse:5.54015\n",
      "[71]\tvalidation-rmse:5.53799\n",
      "[72]\tvalidation-rmse:5.53525\n",
      "[73]\tvalidation-rmse:5.53259\n",
      "[74]\tvalidation-rmse:5.53095\n",
      "[75]\tvalidation-rmse:5.52975\n",
      "[76]\tvalidation-rmse:5.52813\n",
      "[77]\tvalidation-rmse:5.52670\n",
      "[78]\tvalidation-rmse:5.52516\n",
      "[79]\tvalidation-rmse:5.52311\n",
      "[80]\tvalidation-rmse:5.52205\n",
      "[81]\tvalidation-rmse:5.52162\n",
      "[82]\tvalidation-rmse:5.52113\n",
      "[83]\tvalidation-rmse:5.52019\n",
      "[84]\tvalidation-rmse:5.51890\n",
      "[85]\tvalidation-rmse:5.51781\n",
      "[86]\tvalidation-rmse:5.51642\n",
      "[87]\tvalidation-rmse:5.51583\n",
      "[88]\tvalidation-rmse:5.51502\n",
      "[89]\tvalidation-rmse:5.51373\n",
      "[90]\tvalidation-rmse:5.51215\n",
      "[91]\tvalidation-rmse:5.51184\n",
      "[92]\tvalidation-rmse:5.51114\n",
      "[93]\tvalidation-rmse:5.51034\n",
      "[94]\tvalidation-rmse:5.50954\n",
      "[95]\tvalidation-rmse:5.50896\n",
      "[96]\tvalidation-rmse:5.50861\n",
      "[97]\tvalidation-rmse:5.50734\n",
      "[98]\tvalidation-rmse:5.50657\n",
      "[99]\tvalidation-rmse:5.50622\n"
     ]
    },
    {
     "name": "stderr",
     "output_type": "stream",
     "text": [
      "/Users/sohaibarshid/miniconda3/lib/python3.11/site-packages/xgboost/core.py:160: UserWarning: [13:25:48] WARNING: /Users/runner/work/xgboost/xgboost/src/c_api/c_api.cc:1240: Saving into deprecated binary model format, please consider using `json` or `ubj`. Model format will default to JSON in XGBoost 2.2 if not specified.\n",
      "  warnings.warn(smsg, UserWarning)\n",
      "/Users/sohaibarshid/miniconda3/lib/python3.11/site-packages/_distutils_hack/__init__.py:11: UserWarning: Distutils was imported before Setuptools, but importing Setuptools also replaces the `distutils` module in `sys.modules`. This may lead to undesirable behaviors or errors. To avoid these issues, avoid using distutils directly, ensure that setuptools is installed in the traditional way (e.g. not an editable install), and/or make sure that setuptools is always imported before distutils.\n",
      "  warnings.warn(\n",
      "/Users/sohaibarshid/miniconda3/lib/python3.11/site-packages/_distutils_hack/__init__.py:26: UserWarning: Setuptools is replacing distutils.\n",
      "  warnings.warn(\"Setuptools is replacing distutils.\")\n"
     ]
    }
   ],
   "source": [
    "with mlflow.start_run():\n",
    "    \n",
    "    train = xgb.DMatrix(X, label=y)\n",
    "    valid = xgb.DMatrix(X_test, label=y_test)\n",
    "\n",
    "    best_params = {\n",
    "        'learning_rate': 0.92,\n",
    "        'max_depth': 18,\n",
    "        'min_child_weight': 1.20,\n",
    "        'objective': 'reg:linear',\n",
    "        'reg_alpha': 0.007,\n",
    "        'reg_lambda': 0.003,\n",
    "        'seed': 42\n",
    "    }\n",
    "\n",
    "    mlflow.log_params(best_params)\n",
    "\n",
    "    booster = xgb.train(\n",
    "        params=best_params,\n",
    "        dtrain=train,\n",
    "        num_boost_round=100,\n",
    "        evals=[(valid, 'validation')],\n",
    "        early_stopping_rounds=50\n",
    "    )\n",
    "\n",
    "    y_pred = booster.predict(valid)\n",
    "    rmse = mean_squared_error(y_test, y_pred, squared=False)\n",
    "    mlflow.log_metric(\"rmse\", rmse)\n",
    "\n",
    "    with open(\"models/preprocessor.b\", \"wb\") as f_out:\n",
    "        pickle.dump(vectorizer, f_out)\n",
    "    mlflow.log_artifact(\"models/preprocessor.b\", artifact_path=\"preprocessor\")\n",
    "\n",
    "    mlflow.xgboost.log_model(booster, artifact_path=\"models_mlflow\")"
   ]
  },
  {
   "cell_type": "code",
   "execution_count": 59,
   "id": "3ea8efc2-1273-4bcb-b217-9fc045ed70ca",
   "metadata": {},
   "outputs": [
    {
     "name": "stderr",
     "output_type": "stream",
     "text": [
      "/Users/sohaibarshid/miniconda3/lib/python3.11/site-packages/xgboost/core.py:160: UserWarning: [13:31:54] WARNING: /Users/runner/work/xgboost/xgboost/src/c_api/c_api.cc:1240: Saving into deprecated binary model format, please consider using `json` or `ubj`. Model format will default to JSON in XGBoost 2.2 if not specified.\n",
      "  warnings.warn(smsg, UserWarning)\n",
      "/Users/sohaibarshid/miniconda3/lib/python3.11/site-packages/_distutils_hack/__init__.py:11: UserWarning: Distutils was imported before Setuptools, but importing Setuptools also replaces the `distutils` module in `sys.modules`. This may lead to undesirable behaviors or errors. To avoid these issues, avoid using distutils directly, ensure that setuptools is installed in the traditional way (e.g. not an editable install), and/or make sure that setuptools is always imported before distutils.\n",
      "  warnings.warn(\n",
      "/Users/sohaibarshid/miniconda3/lib/python3.11/site-packages/_distutils_hack/__init__.py:26: UserWarning: Setuptools is replacing distutils.\n",
      "  warnings.warn(\"Setuptools is replacing distutils.\")\n",
      "Successfully registered model 'xgb-learn-model-booster'.\n",
      "Created version '1' of model 'xgb-learn-model-booster'.\n"
     ]
    },
    {
     "data": {
      "text/plain": [
       "<mlflow.models.model.ModelInfo at 0x3b485a2d0>"
      ]
     },
     "execution_count": 59,
     "metadata": {},
     "output_type": "execute_result"
    }
   ],
   "source": [
    "from mlflow.models import infer_signature\n",
    "\n",
    "signature = infer_signature(X_test, y_pred)\n",
    "\n",
    "mlflow.xgboost.log_model(\n",
    "        xgb_model=booster,\n",
    "        artifact_path=\"xgboost-model\",\n",
    "        signature=signature,\n",
    "        registered_model_name=\"xgb-learn-model-booster\",\n",
    "    )"
   ]
  },
  {
   "cell_type": "code",
   "execution_count": null,
   "id": "0b4bd4ee-69ef-49c3-bd60-bb2bfc75fffd",
   "metadata": {},
   "outputs": [],
   "source": [
    "!pip install --upgrade setuptools"
   ]
  },
  {
   "cell_type": "code",
   "execution_count": 32,
   "id": "592c323b-e268-47f6-83bd-775428fdb678",
   "metadata": {},
   "outputs": [],
   "source": [
    "import warnings\n",
    "warnings.filterwarnings(\"ignore\", category=UserWarning, module='distutils')"
   ]
  },
  {
   "cell_type": "code",
   "execution_count": 28,
   "id": "33dbb428-fb52-409d-9981-1ffb9d46a832",
   "metadata": {},
   "outputs": [],
   "source": [
    "X = X.todense() "
   ]
  },
  {
   "cell_type": "markdown",
   "id": "e7cef9a4-f864-4393-9b66-fa07ce20153e",
   "metadata": {},
   "source": [
    "### Homework Question 6: Evaluating the model (Feb). RMSE on validation"
   ]
  },
  {
   "cell_type": "code",
   "execution_count": 19,
   "id": "d46f5ab7-9804-40bf-98e6-bdd1935f5a1c",
   "metadata": {},
   "outputs": [],
   "source": [
    "# Applying the same data transformations on the 'taxi dataset from feb 2023'\n",
    "# Convert the columns to datetime if they are not already\n",
    "taxi_data_2['tpep_pickup_datetime'] = pd.to_datetime(taxi_data_2['tpep_pickup_datetime'])\n",
    "taxi_data_2['tpep_dropoff_datetime'] = pd.to_datetime(taxi_data_2['tpep_dropoff_datetime'])\n",
    "\n",
    "# Calculate the duration in minutes\n",
    "taxi_data_2['duration_in_minutes'] = (taxi_data_2['tpep_dropoff_datetime'] - taxi_data_2['tpep_pickup_datetime']).dt.total_seconds() / 60"
   ]
  },
  {
   "cell_type": "code",
   "execution_count": 20,
   "id": "c3750b9c-4b75-4d1f-8e47-3a84fb73e4f0",
   "metadata": {},
   "outputs": [
    {
     "data": {
      "text/plain": [
       "count    3.007526e+06\n",
       "mean     1.598243e+01\n",
       "std      3.428955e+01\n",
       "min     -5.206667e+01\n",
       "25%      7.366667e+00\n",
       "50%      1.200000e+01\n",
       "75%      1.920000e+01\n",
       "max      5.671983e+03\n",
       "Name: duration_in_minutes, dtype: float64"
      ]
     },
     "execution_count": 20,
     "metadata": {},
     "output_type": "execute_result"
    }
   ],
   "source": [
    "taxi_data_2.duration_in_minutes.describe()"
   ]
  },
  {
   "cell_type": "code",
   "execution_count": 21,
   "id": "fbfab3b0-b516-44d3-b4fd-d8a7fb75e8bf",
   "metadata": {},
   "outputs": [],
   "source": [
    "# Remove outliers (keep records where the duration was between 1 and 60 minutes inclusive)\n",
    "taxi_2_filtered = taxi_data_2[(taxi_data_2['duration_in_minutes'] >= 1) & (taxi_data_2['duration_in_minutes'] <= 60)]"
   ]
  },
  {
   "cell_type": "code",
   "execution_count": 22,
   "id": "335a7239-3fb8-45ac-bcda-609573f31b7a",
   "metadata": {},
   "outputs": [
    {
     "name": "stdout",
     "output_type": "stream",
     "text": [
      "The number of records left after filtering 98%\n"
     ]
    }
   ],
   "source": [
    "print(\"The number of records left after filtering {}%\".format(round(len(taxi_2_filtered) / len(taxi_data_2) * 100), 4))"
   ]
  },
  {
   "cell_type": "code",
   "execution_count": 23,
   "id": "a698c813-96ec-4147-8f0b-3f53561c15e1",
   "metadata": {},
   "outputs": [
    {
     "name": "stderr",
     "output_type": "stream",
     "text": [
      "/var/folders/y2/f6l0j67j7cj6gm4wh3010c4w0000gn/T/ipykernel_10709/844420822.py:3: SettingWithCopyWarning: \n",
      "A value is trying to be set on a copy of a slice from a DataFrame.\n",
      "Try using .loc[row_indexer,col_indexer] = value instead\n",
      "\n",
      "See the caveats in the documentation: https://pandas.pydata.org/pandas-docs/stable/user_guide/indexing.html#returning-a-view-versus-a-copy\n",
      "  df['PULocationID'] = df['PULocationID'].astype(str)\n",
      "/var/folders/y2/f6l0j67j7cj6gm4wh3010c4w0000gn/T/ipykernel_10709/844420822.py:4: SettingWithCopyWarning: \n",
      "A value is trying to be set on a copy of a slice from a DataFrame.\n",
      "Try using .loc[row_indexer,col_indexer] = value instead\n",
      "\n",
      "See the caveats in the documentation: https://pandas.pydata.org/pandas-docs/stable/user_guide/indexing.html#returning-a-view-versus-a-copy\n",
      "  df['DOLocationID'] = df['DOLocationID'].astype(str)\n"
     ]
    },
    {
     "name": "stdout",
     "output_type": "stream",
     "text": [
      "The dimensionality of the DictVectorizer for the test data is (2938060, 518)\n"
     ]
    }
   ],
   "source": [
    "X_test = data_transformations(taxi_2_filtered, 'test', vectorizer)"
   ]
  },
  {
   "cell_type": "code",
   "execution_count": 24,
   "id": "f4a39beb-82b0-4865-9e7f-512efced8bad",
   "metadata": {},
   "outputs": [
    {
     "data": {
      "text/plain": [
       "(2938060,)"
      ]
     },
     "execution_count": 24,
     "metadata": {},
     "output_type": "execute_result"
    }
   ],
   "source": [
    "y_test = taxi_2_filtered.duration_in_minutes\n",
    "y_test.shape"
   ]
  },
  {
   "cell_type": "code",
   "execution_count": 25,
   "id": "0949fede-e5f8-46b5-a6af-e3e3b465a04b",
   "metadata": {},
   "outputs": [
    {
     "name": "stdout",
     "output_type": "stream",
     "text": [
      "MSE on validation (feb) data: 8.123388013175115\n"
     ]
    }
   ],
   "source": [
    "y_pred = model.predict(X_test)\n",
    "\n",
    "# Calculate the RMSE\n",
    "mse = mean_squared_error(y_test, y_pred, squared=False)\n",
    "\n",
    "print(\"MSE on validation (feb) data:\", mse)"
   ]
  },
  {
   "cell_type": "code",
   "execution_count": 26,
   "id": "78dce854-eed7-4528-908d-a3bdefe1f720",
   "metadata": {},
   "outputs": [],
   "source": [
    "import pickle"
   ]
  },
  {
   "cell_type": "code",
   "execution_count": 27,
   "id": "ba4aaab1-f6b3-4828-92f0-fa6ef48928df",
   "metadata": {},
   "outputs": [],
   "source": [
    "with open(\"../models/lin_reg.bin\", \"wb\") as file:\n",
    "    pickle.dump((vectorizer, model), file)"
   ]
  },
  {
   "cell_type": "code",
   "execution_count": null,
   "id": "89b28f21-c3c8-4ceb-922e-5974e616b6c8",
   "metadata": {},
   "outputs": [],
   "source": []
  }
 ],
 "metadata": {
  "kernelspec": {
   "display_name": "Python 3 (ipykernel)",
   "language": "python",
   "name": "python3"
  },
  "language_info": {
   "codemirror_mode": {
    "name": "ipython",
    "version": 3
   },
   "file_extension": ".py",
   "mimetype": "text/x-python",
   "name": "python",
   "nbconvert_exporter": "python",
   "pygments_lexer": "ipython3",
   "version": "3.11.5"
  }
 },
 "nbformat": 4,
 "nbformat_minor": 5
}
